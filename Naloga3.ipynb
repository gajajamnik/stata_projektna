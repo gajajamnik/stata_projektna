{
 "cells": [
  {
   "cell_type": "markdown",
   "metadata": {},
   "source": [
    "# Naloga 3: Zobje"
   ]
  },
  {
   "cell_type": "code",
   "execution_count": 83,
   "metadata": {},
   "outputs": [],
   "source": [
    "import pandas as pd\n",
    "import math\n",
    "import numpy\n",
    "from random import seed, randint\n",
    "import matplotlib.pyplot as plt\n",
    "import statistics\n",
    "import random\n",
    "from statsmodels.graphics.gofplots import qqplot\n",
    "from scipy.stats import norm\n",
    "from scipy import stats\n",
    "from math import sqrt"
   ]
  },
  {
   "cell_type": "code",
   "execution_count": 139,
   "metadata": {},
   "outputs": [
    {
     "data": {
      "text/html": [
       "<div>\n",
       "<style scoped>\n",
       "    .dataframe tbody tr th:only-of-type {\n",
       "        vertical-align: middle;\n",
       "    }\n",
       "\n",
       "    .dataframe tbody tr th {\n",
       "        vertical-align: top;\n",
       "    }\n",
       "\n",
       "    .dataframe thead th {\n",
       "        text-align: right;\n",
       "    }\n",
       "</style>\n",
       "<table border=\"1\" class=\"dataframe\">\n",
       "  <thead>\n",
       "    <tr style=\"text-align: right;\">\n",
       "      <th></th>\n",
       "      <th>dolzina</th>\n",
       "      <th>nacin</th>\n",
       "      <th>kolicina</th>\n",
       "    </tr>\n",
       "  </thead>\n",
       "  <tbody>\n",
       "    <tr>\n",
       "      <th>0</th>\n",
       "      <td>4.2</td>\n",
       "      <td>VC</td>\n",
       "      <td>0.5</td>\n",
       "    </tr>\n",
       "    <tr>\n",
       "      <th>1</th>\n",
       "      <td>11.5</td>\n",
       "      <td>VC</td>\n",
       "      <td>0.5</td>\n",
       "    </tr>\n",
       "    <tr>\n",
       "      <th>2</th>\n",
       "      <td>7.3</td>\n",
       "      <td>VC</td>\n",
       "      <td>0.5</td>\n",
       "    </tr>\n",
       "    <tr>\n",
       "      <th>3</th>\n",
       "      <td>5.8</td>\n",
       "      <td>VC</td>\n",
       "      <td>0.5</td>\n",
       "    </tr>\n",
       "    <tr>\n",
       "      <th>4</th>\n",
       "      <td>6.4</td>\n",
       "      <td>VC</td>\n",
       "      <td>0.5</td>\n",
       "    </tr>\n",
       "    <tr>\n",
       "      <th>5</th>\n",
       "      <td>10.0</td>\n",
       "      <td>VC</td>\n",
       "      <td>0.5</td>\n",
       "    </tr>\n",
       "    <tr>\n",
       "      <th>6</th>\n",
       "      <td>11.2</td>\n",
       "      <td>VC</td>\n",
       "      <td>0.5</td>\n",
       "    </tr>\n",
       "    <tr>\n",
       "      <th>7</th>\n",
       "      <td>11.2</td>\n",
       "      <td>VC</td>\n",
       "      <td>0.5</td>\n",
       "    </tr>\n",
       "    <tr>\n",
       "      <th>8</th>\n",
       "      <td>5.2</td>\n",
       "      <td>VC</td>\n",
       "      <td>0.5</td>\n",
       "    </tr>\n",
       "    <tr>\n",
       "      <th>9</th>\n",
       "      <td>7.0</td>\n",
       "      <td>VC</td>\n",
       "      <td>0.5</td>\n",
       "    </tr>\n",
       "  </tbody>\n",
       "</table>\n",
       "</div>"
      ],
      "text/plain": [
       "   dolzina nacin  kolicina\n",
       "0      4.2    VC       0.5\n",
       "1     11.5    VC       0.5\n",
       "2      7.3    VC       0.5\n",
       "3      5.8    VC       0.5\n",
       "4      6.4    VC       0.5\n",
       "5     10.0    VC       0.5\n",
       "6     11.2    VC       0.5\n",
       "7     11.2    VC       0.5\n",
       "8      5.2    VC       0.5\n",
       "9      7.0    VC       0.5"
      ]
     },
     "execution_count": 139,
     "metadata": {},
     "output_type": "execute_result"
    }
   ],
   "source": [
    "Zobje = pd.read_csv(\"Zobje.csv\")\n",
    "Zobje.head(10)"
   ]
  },
  {
   "cell_type": "markdown",
   "metadata": {},
   "source": [
    "### A naloga\n",
    "**Preizkusite, ali dodajanje vitamina C vpliva na rast zob.**"
   ]
  },
  {
   "cell_type": "markdown",
   "metadata": {},
   "source": [
    "Najprej poglejmo kako se spreminja povprečje dolžine zob z dodajanjem vitamina C."
   ]
  },
  {
   "cell_type": "code",
   "execution_count": 86,
   "metadata": {},
   "outputs": [
    {
     "data": {
      "text/html": [
       "<div>\n",
       "<style scoped>\n",
       "    .dataframe tbody tr th:only-of-type {\n",
       "        vertical-align: middle;\n",
       "    }\n",
       "\n",
       "    .dataframe tbody tr th {\n",
       "        vertical-align: top;\n",
       "    }\n",
       "\n",
       "    .dataframe thead th {\n",
       "        text-align: right;\n",
       "    }\n",
       "</style>\n",
       "<table border=\"1\" class=\"dataframe\">\n",
       "  <thead>\n",
       "    <tr style=\"text-align: right;\">\n",
       "      <th></th>\n",
       "      <th>dolzina</th>\n",
       "    </tr>\n",
       "    <tr>\n",
       "      <th>kolicina</th>\n",
       "      <th></th>\n",
       "    </tr>\n",
       "  </thead>\n",
       "  <tbody>\n",
       "    <tr>\n",
       "      <th>0.5</th>\n",
       "      <td>10.605</td>\n",
       "    </tr>\n",
       "    <tr>\n",
       "      <th>1.0</th>\n",
       "      <td>19.735</td>\n",
       "    </tr>\n",
       "    <tr>\n",
       "      <th>2.0</th>\n",
       "      <td>26.100</td>\n",
       "    </tr>\n",
       "  </tbody>\n",
       "</table>\n",
       "</div>"
      ],
      "text/plain": [
       "          dolzina\n",
       "kolicina         \n",
       "0.5        10.605\n",
       "1.0        19.735\n",
       "2.0        26.100"
      ]
     },
     "execution_count": 86,
     "metadata": {},
     "output_type": "execute_result"
    }
   ],
   "source": [
    "#pričakovane vrednosti za neko količino\n",
    "po_kolicni = Zobje.groupby('kolicina').mean()\n",
    "po_kolicni"
   ]
  },
  {
   "cell_type": "markdown",
   "metadata": {},
   "source": [
    "Razpredelnica nam da misliti, da dolžina zob raste z dodajanjem količine vitamina C. Naredimo še preizkus za to domnevo."
   ]
  },
  {
   "cell_type": "markdown",
   "metadata": {},
   "source": [
    "Domneva H0: dodajanje vitamina C vpliva na rast zob (dodajanje vitamina C bo povečalo pričakovano vrednost velikosti zoba: mi0.5 = mi1.0 = mi2.0)\n",
    "\n",
    "Domneva H1: dodajanje vitamina C ne vpliva na rast zob (mi0.5 < mi1.0 in mi1.0 < mi2.0)"
   ]
  },
  {
   "cell_type": "markdown",
   "metadata": {},
   "source": [
    "Naredimo preizkus hipoteze:\n",
    "\n",
    "H0: mi0.5 = mi1.0\n",
    "\n",
    "H1: mi0.5 < mi1.0"
   ]
  },
  {
   "cell_type": "code",
   "execution_count": 87,
   "metadata": {},
   "outputs": [],
   "source": [
    "Zobje_pol = Zobje[Zobje.kolicina == 0.5]\n",
    "Zobje_ena = Zobje[Zobje.kolicina == 1.0]\n",
    "Zobje_dva = Zobje[Zobje.kolicina == 2.0]"
   ]
  },
  {
   "cell_type": "code",
   "execution_count": 143,
   "metadata": {},
   "outputs": [],
   "source": [
    "n = len(Zobje_pol) #20\n",
    "m = len(Zobje_ena) #20\n",
    "u = len(Zobje_dva) #20"
   ]
  },
  {
   "cell_type": "markdown",
   "metadata": {},
   "source": [
    "Iz strani https://www.statology.org/inverse-t-distribution-calculator/ dobimo C_alpha **1.6860**"
   ]
  },
  {
   "cell_type": "code",
   "execution_count": 88,
   "metadata": {},
   "outputs": [
    {
     "data": {
      "text/plain": [
       "Ttest_indResult(statistic=6.476647726589102, pvalue=6.331484806608257e-08)"
      ]
     },
     "execution_count": 88,
     "metadata": {},
     "output_type": "execute_result"
    }
   ],
   "source": [
    "stats.ttest_ind(a=Zobje_ena.dolzina, b=Zobje_pol.dolzina, alternative='greater')"
   ]
  },
  {
   "cell_type": "markdown",
   "metadata": {},
   "source": [
    "T = **6.476647726589102** > C_alpha -> ničelno hipotezo zavržemo"
   ]
  },
  {
   "cell_type": "markdown",
   "metadata": {},
   "source": [
    "----\n",
    "H0: mi1.00 >= mi2.0\n",
    "\n",
    "H1: mi1.0 < mi2.0"
   ]
  },
  {
   "cell_type": "code",
   "execution_count": 89,
   "metadata": {},
   "outputs": [
    {
     "data": {
      "text/plain": [
       "Ttest_indResult(statistic=4.90048431719355, pvalue=9.054142680908653e-06)"
      ]
     },
     "execution_count": 89,
     "metadata": {},
     "output_type": "execute_result"
    }
   ],
   "source": [
    "stats.ttest_ind(a=Zobje_dva.dolzina, b=Zobje_ena.dolzina, alternative='greater')"
   ]
  },
  {
   "cell_type": "markdown",
   "metadata": {},
   "source": [
    "T = 4.90048431719355 > C_alpha -> ničelno hipotezo zavržemo"
   ]
  },
  {
   "cell_type": "markdown",
   "metadata": {},
   "source": [
    "----\n",
    "### B naloga\n",
    "**Kateri način dodajanja je učinkovitejši? Preizkusite, ali je razlika statistično značilna.**"
   ]
  },
  {
   "cell_type": "markdown",
   "metadata": {},
   "source": [
    "Najprej poglejmo kakšna so povprečja dolžin po količini dodajanja."
   ]
  },
  {
   "cell_type": "code",
   "execution_count": 90,
   "metadata": {},
   "outputs": [
    {
     "data": {
      "text/html": [
       "<div>\n",
       "<style scoped>\n",
       "    .dataframe tbody tr th:only-of-type {\n",
       "        vertical-align: middle;\n",
       "    }\n",
       "\n",
       "    .dataframe tbody tr th {\n",
       "        vertical-align: top;\n",
       "    }\n",
       "\n",
       "    .dataframe thead th {\n",
       "        text-align: right;\n",
       "    }\n",
       "</style>\n",
       "<table border=\"1\" class=\"dataframe\">\n",
       "  <thead>\n",
       "    <tr style=\"text-align: right;\">\n",
       "      <th></th>\n",
       "      <th>dolzina</th>\n",
       "    </tr>\n",
       "    <tr>\n",
       "      <th>kolicina</th>\n",
       "      <th></th>\n",
       "    </tr>\n",
       "  </thead>\n",
       "  <tbody>\n",
       "    <tr>\n",
       "      <th>0.5</th>\n",
       "      <td>13.23</td>\n",
       "    </tr>\n",
       "    <tr>\n",
       "      <th>1.0</th>\n",
       "      <td>22.70</td>\n",
       "    </tr>\n",
       "    <tr>\n",
       "      <th>2.0</th>\n",
       "      <td>26.06</td>\n",
       "    </tr>\n",
       "  </tbody>\n",
       "</table>\n",
       "</div>"
      ],
      "text/plain": [
       "          dolzina\n",
       "kolicina         \n",
       "0.5         13.23\n",
       "1.0         22.70\n",
       "2.0         26.06"
      ]
     },
     "execution_count": 90,
     "metadata": {},
     "output_type": "execute_result"
    }
   ],
   "source": [
    "Zobje_pomarančni = Zobje[Zobje.nacin == 'OJ']\n",
    "Zobje_pomarančni.groupby('kolicina').mean()"
   ]
  },
  {
   "cell_type": "code",
   "execution_count": 91,
   "metadata": {},
   "outputs": [
    {
     "data": {
      "text/html": [
       "<div>\n",
       "<style scoped>\n",
       "    .dataframe tbody tr th:only-of-type {\n",
       "        vertical-align: middle;\n",
       "    }\n",
       "\n",
       "    .dataframe tbody tr th {\n",
       "        vertical-align: top;\n",
       "    }\n",
       "\n",
       "    .dataframe thead th {\n",
       "        text-align: right;\n",
       "    }\n",
       "</style>\n",
       "<table border=\"1\" class=\"dataframe\">\n",
       "  <thead>\n",
       "    <tr style=\"text-align: right;\">\n",
       "      <th></th>\n",
       "      <th>dolzina</th>\n",
       "    </tr>\n",
       "    <tr>\n",
       "      <th>kolicina</th>\n",
       "      <th></th>\n",
       "    </tr>\n",
       "  </thead>\n",
       "  <tbody>\n",
       "    <tr>\n",
       "      <th>0.5</th>\n",
       "      <td>7.98</td>\n",
       "    </tr>\n",
       "    <tr>\n",
       "      <th>1.0</th>\n",
       "      <td>16.77</td>\n",
       "    </tr>\n",
       "    <tr>\n",
       "      <th>2.0</th>\n",
       "      <td>26.14</td>\n",
       "    </tr>\n",
       "  </tbody>\n",
       "</table>\n",
       "</div>"
      ],
      "text/plain": [
       "          dolzina\n",
       "kolicina         \n",
       "0.5          7.98\n",
       "1.0         16.77\n",
       "2.0         26.14"
      ]
     },
     "execution_count": 91,
     "metadata": {},
     "output_type": "execute_result"
    }
   ],
   "source": [
    "Zobje_neposredno = Zobje[Zobje.nacin == 'VC']\n",
    "Zobje_neposredno.groupby('kolicina').mean()"
   ]
  },
  {
   "cell_type": "code",
   "execution_count": 107,
   "metadata": {},
   "outputs": [],
   "source": [
    "m = Zobje_pomarančni.dolzina.count()\n",
    "n = Zobje_neposredno.dolzina.count()"
   ]
  },
  {
   "cell_type": "code",
   "execution_count": 109,
   "metadata": {},
   "outputs": [],
   "source": [
    "povprecjePO = Zobje_pomarančni.dolzina.mean()"
   ]
  },
  {
   "cell_type": "code",
   "execution_count": 108,
   "metadata": {},
   "outputs": [],
   "source": [
    "povprecjeNE = Zobje_neposredno.dolzina.mean()"
   ]
  },
  {
   "cell_type": "markdown",
   "metadata": {},
   "source": [
    "Iz povprečji ne moremo razbrati kateri način je učinkovitejši. Opravili bomo preizkus hipoteze s Studentovim t-testom.\n",
    "Zapišimo ničelno in alternativno hipotezo."
   ]
  },
  {
   "cell_type": "markdown",
   "metadata": {},
   "source": [
    "H0: miPO < miNE  (pričakovana vrednost dodajanja s pomarančnim je manjša kot pričakovana za neposredno dodajanje)\n",
    "\n",
    "H1: miPO >= miNE  (pričakovana vrednost dodajanja s pomarančnim je višja)"
   ]
  },
  {
   "cell_type": "markdown",
   "metadata": {},
   "source": [
    "Iz kalkulatorja s strani https://www.statology.org/inverse-t-distribution-calculator/ poračunamo inverz Studentone porazdelitve pri stopnji tveganja 0.05 in m+n-2 = 58: dobimo **1.6716** (to je C_alpha)"
   ]
  },
  {
   "cell_type": "markdown",
   "metadata": {},
   "source": [
    "Za stopnjo tveganja 0.01 pa dobimo: **2.3924**"
   ]
  },
  {
   "cell_type": "markdown",
   "metadata": {},
   "source": [
    "Zanima nas ali je T poračunan po naših podatkih iz vzorca manjši kot C_alpha"
   ]
  },
  {
   "cell_type": "markdown",
   "metadata": {},
   "source": [
    "1. prvi način: po formuli"
   ]
  },
  {
   "cell_type": "code",
   "execution_count": 122,
   "metadata": {},
   "outputs": [],
   "source": [
    "S = 0\n",
    "for i in Zobje_pomarančni.dolzina:\n",
    "    S += (i - povprecjePO)**2\n",
    "for i in Zobje_neposredno.dolzina:\n",
    "    S += (i - povprecjeNE)\n",
    "\n",
    "S = math.sqrt(S/(m + n - 2))"
   ]
  },
  {
   "cell_type": "code",
   "execution_count": 137,
   "metadata": {},
   "outputs": [
    {
     "data": {
      "text/plain": [
       "1.9271696780478498"
      ]
     },
     "execution_count": 137,
     "metadata": {},
     "output_type": "execute_result"
    }
   ],
   "source": [
    "T = (povprecjePO - povprecjeNE)/((Zobje_pomarančni.dolzina.std() + Zobje_neposredno.dolzina.std())/2 * math.sqrt(m + n)/math.sqrt(m*n))\n",
    "T"
   ]
  },
  {
   "cell_type": "markdown",
   "metadata": {},
   "source": [
    "2. način: z ugrajeno funkcijo"
   ]
  },
  {
   "cell_type": "code",
   "execution_count": 138,
   "metadata": {},
   "outputs": [
    {
     "data": {
      "text/plain": [
       "Ttest_indResult(statistic=1.91526826869527, pvalue=0.03019668561206424)"
      ]
     },
     "execution_count": 138,
     "metadata": {},
     "output_type": "execute_result"
    }
   ],
   "source": [
    "#t-test za enostransko ocenjevanje('greater')\n",
    "#vrne t statistiko in vrednost p\n",
    "stats.ttest_ind(a=Zobje_pomarančni.dolzina, b=Zobje_neposredno.dolzina, alternative='greater')"
   ]
  },
  {
   "cell_type": "markdown",
   "metadata": {},
   "source": [
    "Za stopnjo tveganja 0.05 je T > C_0.5 -> zavrzemo nicelno hipotezo\n",
    "\n",
    "Za stopnjo tveganja 0.01 je T < C_0.1 -> obdrzimo nicelno hipotezo"
   ]
  },
  {
   "cell_type": "markdown",
   "metadata": {},
   "source": [
    "----\n",
    "Ugotoviti moramo še ali je razlika statistično značilna."
   ]
  },
  {
   "cell_type": "markdown",
   "metadata": {},
   "source": [
    "Z vgrajeno funkcijo izračunamo verjetnost za naše podatke"
   ]
  },
  {
   "cell_type": "code",
   "execution_count": 97,
   "metadata": {},
   "outputs": [
    {
     "data": {
      "text/plain": [
       "True"
      ]
     },
     "execution_count": 97,
     "metadata": {},
     "output_type": "execute_result"
    }
   ],
   "source": [
    "#Če je p vrednost manj od alfa je statistično značilna\n",
    "\n",
    "pvalue = 0.03019668561206424\n",
    "alpha = 0.05\n",
    "\n",
    "pvalue < alpha"
   ]
  },
  {
   "cell_type": "markdown",
   "metadata": {},
   "source": [
    "Zavrnemo hipotezo H0"
   ]
  }
 ],
 "metadata": {
  "kernelspec": {
   "display_name": "Python 3.8.1 32-bit",
   "language": "python",
   "name": "python3"
  },
  "language_info": {
   "codemirror_mode": {
    "name": "ipython",
    "version": 3
   },
   "file_extension": ".py",
   "mimetype": "text/x-python",
   "name": "python",
   "nbconvert_exporter": "python",
   "pygments_lexer": "ipython3",
   "version": "3.8.1"
  },
  "orig_nbformat": 4,
  "vscode": {
   "interpreter": {
    "hash": "d44a91e7fadf32c41ede04034de35649a715fd53783fc7a039f1b7d87b9a8545"
   }
  }
 },
 "nbformat": 4,
 "nbformat_minor": 2
}
