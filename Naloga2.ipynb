{
 "cells": [
  {
   "cell_type": "markdown",
   "metadata": {},
   "source": [
    "# Naloga 2: Mangan"
   ]
  },
  {
   "cell_type": "markdown",
   "metadata": {},
   "source": [
    "V datoteki Mangan so podatki o deležu mangana v železu, pridobljenem v plavžu:\n",
    "skozi 24 dni so vsak dan analizirali pet odlitkov. Preučite normalnost dobljene\n",
    "empirične porazdelitve."
   ]
  },
  {
   "cell_type": "code",
   "execution_count": 559,
   "metadata": {},
   "outputs": [],
   "source": [
    "import pandas as pd\n",
    "import math\n",
    "import numpy\n",
    "from random import seed, randint\n",
    "import matplotlib.pyplot as plt\n",
    "from scipy import stats\n",
    "from scipy.stats import norm"
   ]
  },
  {
   "cell_type": "code",
   "execution_count": 560,
   "metadata": {},
   "outputs": [
    {
     "data": {
      "text/html": [
       "<div>\n",
       "<style scoped>\n",
       "    .dataframe tbody tr th:only-of-type {\n",
       "        vertical-align: middle;\n",
       "    }\n",
       "\n",
       "    .dataframe tbody tr th {\n",
       "        vertical-align: top;\n",
       "    }\n",
       "\n",
       "    .dataframe thead th {\n",
       "        text-align: right;\n",
       "    }\n",
       "</style>\n",
       "<table border=\"1\" class=\"dataframe\">\n",
       "  <thead>\n",
       "    <tr style=\"text-align: right;\">\n",
       "      <th></th>\n",
       "      <th>dan</th>\n",
       "      <th>odlitek1</th>\n",
       "      <th>odlitek2</th>\n",
       "      <th>odlitek3</th>\n",
       "      <th>odlitek4</th>\n",
       "      <th>odlitek5</th>\n",
       "    </tr>\n",
       "  </thead>\n",
       "  <tbody>\n",
       "    <tr>\n",
       "      <th>0</th>\n",
       "      <td>1</td>\n",
       "      <td>1.40</td>\n",
       "      <td>1.28</td>\n",
       "      <td>1.36</td>\n",
       "      <td>1.38</td>\n",
       "      <td>1.44</td>\n",
       "    </tr>\n",
       "    <tr>\n",
       "      <th>1</th>\n",
       "      <td>2</td>\n",
       "      <td>1.40</td>\n",
       "      <td>1.34</td>\n",
       "      <td>1.54</td>\n",
       "      <td>1.44</td>\n",
       "      <td>1.46</td>\n",
       "    </tr>\n",
       "    <tr>\n",
       "      <th>2</th>\n",
       "      <td>3</td>\n",
       "      <td>1.80</td>\n",
       "      <td>1.44</td>\n",
       "      <td>1.46</td>\n",
       "      <td>1.50</td>\n",
       "      <td>1.38</td>\n",
       "    </tr>\n",
       "    <tr>\n",
       "      <th>3</th>\n",
       "      <td>4</td>\n",
       "      <td>1.54</td>\n",
       "      <td>1.50</td>\n",
       "      <td>1.48</td>\n",
       "      <td>1.52</td>\n",
       "      <td>1.58</td>\n",
       "    </tr>\n",
       "    <tr>\n",
       "      <th>4</th>\n",
       "      <td>5</td>\n",
       "      <td>1.52</td>\n",
       "      <td>1.46</td>\n",
       "      <td>1.42</td>\n",
       "      <td>1.58</td>\n",
       "      <td>1.70</td>\n",
       "    </tr>\n",
       "    <tr>\n",
       "      <th>5</th>\n",
       "      <td>6</td>\n",
       "      <td>1.62</td>\n",
       "      <td>1.58</td>\n",
       "      <td>1.62</td>\n",
       "      <td>1.76</td>\n",
       "      <td>1.60</td>\n",
       "    </tr>\n",
       "    <tr>\n",
       "      <th>6</th>\n",
       "      <td>7</td>\n",
       "      <td>1.58</td>\n",
       "      <td>1.64</td>\n",
       "      <td>1.62</td>\n",
       "      <td>1.72</td>\n",
       "      <td>1.60</td>\n",
       "    </tr>\n",
       "    <tr>\n",
       "      <th>7</th>\n",
       "      <td>8</td>\n",
       "      <td>1.62</td>\n",
       "      <td>1.46</td>\n",
       "      <td>1.38</td>\n",
       "      <td>1.42</td>\n",
       "      <td>1.38</td>\n",
       "    </tr>\n",
       "    <tr>\n",
       "      <th>8</th>\n",
       "      <td>9</td>\n",
       "      <td>1.60</td>\n",
       "      <td>1.44</td>\n",
       "      <td>1.46</td>\n",
       "      <td>1.38</td>\n",
       "      <td>1.34</td>\n",
       "    </tr>\n",
       "    <tr>\n",
       "      <th>9</th>\n",
       "      <td>10</td>\n",
       "      <td>1.38</td>\n",
       "      <td>1.34</td>\n",
       "      <td>1.36</td>\n",
       "      <td>1.58</td>\n",
       "      <td>1.38</td>\n",
       "    </tr>\n",
       "    <tr>\n",
       "      <th>10</th>\n",
       "      <td>11</td>\n",
       "      <td>1.34</td>\n",
       "      <td>1.28</td>\n",
       "      <td>1.08</td>\n",
       "      <td>1.08</td>\n",
       "      <td>1.36</td>\n",
       "    </tr>\n",
       "    <tr>\n",
       "      <th>11</th>\n",
       "      <td>12</td>\n",
       "      <td>1.50</td>\n",
       "      <td>1.46</td>\n",
       "      <td>1.28</td>\n",
       "      <td>1.18</td>\n",
       "      <td>1.28</td>\n",
       "    </tr>\n",
       "    <tr>\n",
       "      <th>12</th>\n",
       "      <td>13</td>\n",
       "      <td>1.26</td>\n",
       "      <td>1.50</td>\n",
       "      <td>1.52</td>\n",
       "      <td>1.38</td>\n",
       "      <td>1.50</td>\n",
       "    </tr>\n",
       "    <tr>\n",
       "      <th>13</th>\n",
       "      <td>14</td>\n",
       "      <td>1.52</td>\n",
       "      <td>1.50</td>\n",
       "      <td>1.46</td>\n",
       "      <td>1.34</td>\n",
       "      <td>1.40</td>\n",
       "    </tr>\n",
       "    <tr>\n",
       "      <th>14</th>\n",
       "      <td>15</td>\n",
       "      <td>1.50</td>\n",
       "      <td>1.42</td>\n",
       "      <td>1.38</td>\n",
       "      <td>1.36</td>\n",
       "      <td>1.38</td>\n",
       "    </tr>\n",
       "    <tr>\n",
       "      <th>15</th>\n",
       "      <td>16</td>\n",
       "      <td>1.42</td>\n",
       "      <td>1.32</td>\n",
       "      <td>1.48</td>\n",
       "      <td>1.36</td>\n",
       "      <td>1.38</td>\n",
       "    </tr>\n",
       "    <tr>\n",
       "      <th>16</th>\n",
       "      <td>17</td>\n",
       "      <td>1.32</td>\n",
       "      <td>1.40</td>\n",
       "      <td>1.40</td>\n",
       "      <td>1.26</td>\n",
       "      <td>1.26</td>\n",
       "    </tr>\n",
       "    <tr>\n",
       "      <th>17</th>\n",
       "      <td>18</td>\n",
       "      <td>1.16</td>\n",
       "      <td>1.34</td>\n",
       "      <td>1.40</td>\n",
       "      <td>1.16</td>\n",
       "      <td>1.54</td>\n",
       "    </tr>\n",
       "    <tr>\n",
       "      <th>18</th>\n",
       "      <td>19</td>\n",
       "      <td>1.24</td>\n",
       "      <td>1.22</td>\n",
       "      <td>1.20</td>\n",
       "      <td>1.30</td>\n",
       "      <td>1.36</td>\n",
       "    </tr>\n",
       "    <tr>\n",
       "      <th>19</th>\n",
       "      <td>20</td>\n",
       "      <td>1.30</td>\n",
       "      <td>1.48</td>\n",
       "      <td>1.28</td>\n",
       "      <td>1.18</td>\n",
       "      <td>1.28</td>\n",
       "    </tr>\n",
       "    <tr>\n",
       "      <th>20</th>\n",
       "      <td>21</td>\n",
       "      <td>1.30</td>\n",
       "      <td>1.52</td>\n",
       "      <td>1.76</td>\n",
       "      <td>1.16</td>\n",
       "      <td>1.28</td>\n",
       "    </tr>\n",
       "    <tr>\n",
       "      <th>21</th>\n",
       "      <td>22</td>\n",
       "      <td>1.48</td>\n",
       "      <td>1.46</td>\n",
       "      <td>1.48</td>\n",
       "      <td>1.42</td>\n",
       "      <td>1.36</td>\n",
       "    </tr>\n",
       "    <tr>\n",
       "      <th>22</th>\n",
       "      <td>23</td>\n",
       "      <td>1.32</td>\n",
       "      <td>1.22</td>\n",
       "      <td>1.72</td>\n",
       "      <td>1.18</td>\n",
       "      <td>1.36</td>\n",
       "    </tr>\n",
       "    <tr>\n",
       "      <th>23</th>\n",
       "      <td>24</td>\n",
       "      <td>1.44</td>\n",
       "      <td>1.28</td>\n",
       "      <td>1.10</td>\n",
       "      <td>1.06</td>\n",
       "      <td>1.10</td>\n",
       "    </tr>\n",
       "  </tbody>\n",
       "</table>\n",
       "</div>"
      ],
      "text/plain": [
       "    dan  odlitek1  odlitek2  odlitek3  odlitek4  odlitek5\n",
       "0     1      1.40      1.28      1.36      1.38      1.44\n",
       "1     2      1.40      1.34      1.54      1.44      1.46\n",
       "2     3      1.80      1.44      1.46      1.50      1.38\n",
       "3     4      1.54      1.50      1.48      1.52      1.58\n",
       "4     5      1.52      1.46      1.42      1.58      1.70\n",
       "5     6      1.62      1.58      1.62      1.76      1.60\n",
       "6     7      1.58      1.64      1.62      1.72      1.60\n",
       "7     8      1.62      1.46      1.38      1.42      1.38\n",
       "8     9      1.60      1.44      1.46      1.38      1.34\n",
       "9    10      1.38      1.34      1.36      1.58      1.38\n",
       "10   11      1.34      1.28      1.08      1.08      1.36\n",
       "11   12      1.50      1.46      1.28      1.18      1.28\n",
       "12   13      1.26      1.50      1.52      1.38      1.50\n",
       "13   14      1.52      1.50      1.46      1.34      1.40\n",
       "14   15      1.50      1.42      1.38      1.36      1.38\n",
       "15   16      1.42      1.32      1.48      1.36      1.38\n",
       "16   17      1.32      1.40      1.40      1.26      1.26\n",
       "17   18      1.16      1.34      1.40      1.16      1.54\n",
       "18   19      1.24      1.22      1.20      1.30      1.36\n",
       "19   20      1.30      1.48      1.28      1.18      1.28\n",
       "20   21      1.30      1.52      1.76      1.16      1.28\n",
       "21   22      1.48      1.46      1.48      1.42      1.36\n",
       "22   23      1.32      1.22      1.72      1.18      1.36\n",
       "23   24      1.44      1.28      1.10      1.06      1.10"
      ]
     },
     "execution_count": 560,
     "metadata": {},
     "output_type": "execute_result"
    }
   ],
   "source": [
    "Mangan = pd.read_csv(\"Mangan.csv\")\n",
    "Mangan"
   ]
  },
  {
   "cell_type": "markdown",
   "metadata": {},
   "source": [
    "**Širino posameznega razreda določite v skladu z modificiranim Freedman–Diaconisovim pravilom.**"
   ]
  },
  {
   "cell_type": "code",
   "execution_count": 561,
   "metadata": {},
   "outputs": [],
   "source": [
    "delezi = Mangan.odlitek1.tolist() + Mangan.odlitek2.tolist() + Mangan.odlitek3.tolist() + Mangan.odlitek4.tolist() + Mangan.odlitek5.tolist()"
   ]
  },
  {
   "cell_type": "code",
   "execution_count": 562,
   "metadata": {},
   "outputs": [
    {
     "name": "stderr",
     "output_type": "stream",
     "text": [
      "c:\\Users\\gajaj\\AppData\\Local\\Programs\\Python\\Python38-32\\lib\\site-packages\\scipy\\stats\\_stats_py.py:3171: VisibleDeprecationWarning: use of scale='raw' is deprecated, use scale=1.0 instead\n",
      "  warnings.warn(\n"
     ]
    },
    {
     "data": {
      "text/plain": [
       "11"
      ]
     },
     "execution_count": 562,
     "metadata": {},
     "output_type": "execute_result"
    }
   ],
   "source": [
    "#koda vzeta s strani http://www.jtrive.com/determining-histogram-bin-width-using-the-freedman-diaconis-rule.html\n",
    "\n",
    "def freedman_diaconis(data, returnas=\"width\"):\n",
    "    \"\"\"\n",
    "    Use Freedman Diaconis rule to compute optimal histogram bin width. \n",
    "    ``returnas`` can be one of \"width\" or \"bins\", indicating whether\n",
    "    the bin width or number of bins should be returned respectively. \n",
    "\n",
    "\n",
    "    Parameters\n",
    "    ----------\n",
    "    data: np.ndarray\n",
    "        One-dimensional array.\n",
    "\n",
    "    returnas: {\"width\", \"bins\"}\n",
    "        If \"width\", return the estimated width for each histogram bin. \n",
    "        If \"bins\", return the number of bins suggested by rule.\n",
    "    \"\"\"\n",
    "    data = numpy.asarray(data, dtype=numpy.float_)\n",
    "    IQR  = stats.iqr(data, rng=(25, 75), scale=\"raw\", nan_policy=\"omit\")\n",
    "    N    = data.size\n",
    "    bw   = (2 * IQR) / numpy.power(N, 1/3)\n",
    "\n",
    "    if returnas==\"width\":\n",
    "        result = bw\n",
    "    else:\n",
    "        datmin, datmax = data.min(), data.max()\n",
    "        datrng = datmax - datmin\n",
    "        result = int((datrng / bw) + 1)\n",
    "    return result\n",
    "\n",
    "freedman_diaconis(delezi, 'bins')"
   ]
  },
  {
   "cell_type": "code",
   "execution_count": 563,
   "metadata": {},
   "outputs": [
    {
     "data": {
      "text/plain": [
       "0.07298642394688079"
      ]
     },
     "execution_count": 563,
     "metadata": {},
     "output_type": "execute_result"
    }
   ],
   "source": [
    "freedman_diaconis(delezi, 'width')"
   ]
  },
  {
   "cell_type": "markdown",
   "metadata": {},
   "source": [
    "**histogram z dorisano normalno gostoto**\n",
    "\n",
    "---"
   ]
  },
  {
   "cell_type": "code",
   "execution_count": 564,
   "metadata": {},
   "outputs": [
    {
     "data": {
      "text/plain": [
       "1.409"
      ]
     },
     "execution_count": 564,
     "metadata": {},
     "output_type": "execute_result"
    }
   ],
   "source": [
    "#pričakovana vrednost se ujema s povprečjem\n",
    "povprecje = numpy.mean(delezi)\n",
    "povprecje"
   ]
  },
  {
   "cell_type": "code",
   "execution_count": 565,
   "metadata": {},
   "outputs": [
    {
     "data": {
      "text/plain": [
       "0.15055120944936531"
      ]
     },
     "execution_count": 565,
     "metadata": {},
     "output_type": "execute_result"
    }
   ],
   "source": [
    "#standardni odklon izracunamo s pomocjo funkcije .std()\n",
    "standardni_odklon = numpy.std(delezi)\n",
    "standardni_odklon"
   ]
  },
  {
   "cell_type": "code",
   "execution_count": 566,
   "metadata": {},
   "outputs": [],
   "source": [
    "# gostota normalne porazdelitve\n",
    "def normalna(x, pov, st):\n",
    "    return 1/ (st*(2*math.pi)**0.5) * math.e**(-0.5*((x-pov)/st)**2)"
   ]
  },
  {
   "cell_type": "code",
   "execution_count": 567,
   "metadata": {},
   "outputs": [
    {
     "data": {
      "image/png": "[encoded data removed]",
      "text/plain": [
       "<Figure size 432x288 with 1 Axes>"
      ]
     },
     "metadata": {
      "needs_background": "light"
     },
     "output_type": "display_data"
    }
   ],
   "source": [
    "#histogram\n",
    "from turtle import color\n",
    "\n",
    "\n",
    "plt.hist(delezi, bins=11)\n",
    "\n",
    "# PDF.\n",
    "xmin, xmax = plt.xlim()\n",
    "x = numpy.linspace(xmin, xmax, 100)\n",
    "p = normalna(x, povprecje, standardni_odklon)\n",
    "\n",
    "  \n",
    "plt.plot(x, p, 'k', linewidth=2, color='r')\n",
    "title = \"porazdelitev deležev magana v odlitkih\".format(povprecje, standardni_odklon)\n",
    "plt.title(title)\n",
    "  \n",
    "plt.show()"
   ]
  },
  {
   "cell_type": "markdown",
   "metadata": {},
   "source": [
    "**viseči histogram razlik korenov frekvenc**\n",
    "\n",
    "---"
   ]
  },
  {
   "cell_type": "markdown",
   "metadata": {},
   "source": [
    "Definiramo tabelo frekvence, ki za vsako vrednost odlitka določi število ponovitev te vrednosti v posameznem odlitku."
   ]
  },
  {
   "cell_type": "code",
   "execution_count": 568,
   "metadata": {},
   "outputs": [
    {
     "data": {
      "text/html": [
       "<div>\n",
       "<style scoped>\n",
       "    .dataframe tbody tr th:only-of-type {\n",
       "        vertical-align: middle;\n",
       "    }\n",
       "\n",
       "    .dataframe tbody tr th {\n",
       "        vertical-align: top;\n",
       "    }\n",
       "\n",
       "    .dataframe thead th {\n",
       "        text-align: right;\n",
       "    }\n",
       "</style>\n",
       "<table border=\"1\" class=\"dataframe\">\n",
       "  <thead>\n",
       "    <tr style=\"text-align: right;\">\n",
       "      <th></th>\n",
       "      <th>odlitek1</th>\n",
       "      <th>odlitek2</th>\n",
       "      <th>odlitek3</th>\n",
       "      <th>odlitek4</th>\n",
       "      <th>odlitek5</th>\n",
       "    </tr>\n",
       "  </thead>\n",
       "  <tbody>\n",
       "    <tr>\n",
       "      <th>1.06</th>\n",
       "      <td>NaN</td>\n",
       "      <td>NaN</td>\n",
       "      <td>NaN</td>\n",
       "      <td>1.0</td>\n",
       "      <td>NaN</td>\n",
       "    </tr>\n",
       "    <tr>\n",
       "      <th>1.08</th>\n",
       "      <td>NaN</td>\n",
       "      <td>NaN</td>\n",
       "      <td>1.0</td>\n",
       "      <td>1.0</td>\n",
       "      <td>NaN</td>\n",
       "    </tr>\n",
       "    <tr>\n",
       "      <th>1.10</th>\n",
       "      <td>NaN</td>\n",
       "      <td>NaN</td>\n",
       "      <td>1.0</td>\n",
       "      <td>NaN</td>\n",
       "      <td>1.0</td>\n",
       "    </tr>\n",
       "    <tr>\n",
       "      <th>1.16</th>\n",
       "      <td>1.0</td>\n",
       "      <td>NaN</td>\n",
       "      <td>NaN</td>\n",
       "      <td>2.0</td>\n",
       "      <td>NaN</td>\n",
       "    </tr>\n",
       "    <tr>\n",
       "      <th>1.18</th>\n",
       "      <td>NaN</td>\n",
       "      <td>NaN</td>\n",
       "      <td>NaN</td>\n",
       "      <td>3.0</td>\n",
       "      <td>NaN</td>\n",
       "    </tr>\n",
       "  </tbody>\n",
       "</table>\n",
       "</div>"
      ],
      "text/plain": [
       "      odlitek1  odlitek2  odlitek3  odlitek4  odlitek5\n",
       "1.06       NaN       NaN       NaN       1.0       NaN\n",
       "1.08       NaN       NaN       1.0       1.0       NaN\n",
       "1.10       NaN       NaN       1.0       NaN       1.0\n",
       "1.16       1.0       NaN       NaN       2.0       NaN\n",
       "1.18       NaN       NaN       NaN       3.0       NaN"
      ]
     },
     "execution_count": 568,
     "metadata": {},
     "output_type": "execute_result"
    }
   ],
   "source": [
    "#stejemo deleze\n",
    "frekvence = Mangan[['odlitek1', 'odlitek2', 'odlitek3', 'odlitek4', 'odlitek5']].apply(pd.Series.value_counts)\n",
    "frekvence.head(5)"
   ]
  },
  {
   "cell_type": "markdown",
   "metadata": {},
   "source": [
    "Nas zanima kolikokrat se določen delež mangana pojavi na splošno ne glede na zaporedno število odlitka, zato definiramo stolpec, ki šteje vse ponovitve za določeno vrednost."
   ]
  },
  {
   "cell_type": "code",
   "execution_count": 569,
   "metadata": {},
   "outputs": [],
   "source": [
    "#dodamo stolpec z vsotami ponovitev\n",
    "seznam_vsot = []\n",
    "for index, row in frekvence.iterrows():\n",
    "    vsota = 0\n",
    "    for i in row:\n",
    "        if not math.isnan(i):\n",
    "            vsota += i\n",
    "    seznam_vsot.append(vsota)\n",
    "\n",
    "\n",
    "frekvence['vsota_ponovitev'] = seznam_vsot"
   ]
  },
  {
   "cell_type": "code",
   "execution_count": 570,
   "metadata": {},
   "outputs": [
    {
     "data": {
      "text/html": [
       "<div>\n",
       "<style scoped>\n",
       "    .dataframe tbody tr th:only-of-type {\n",
       "        vertical-align: middle;\n",
       "    }\n",
       "\n",
       "    .dataframe tbody tr th {\n",
       "        vertical-align: top;\n",
       "    }\n",
       "\n",
       "    .dataframe thead th {\n",
       "        text-align: right;\n",
       "    }\n",
       "</style>\n",
       "<table border=\"1\" class=\"dataframe\">\n",
       "  <thead>\n",
       "    <tr style=\"text-align: right;\">\n",
       "      <th></th>\n",
       "      <th>index</th>\n",
       "      <th>odlitek1</th>\n",
       "      <th>odlitek2</th>\n",
       "      <th>odlitek3</th>\n",
       "      <th>odlitek4</th>\n",
       "      <th>odlitek5</th>\n",
       "      <th>vsota_ponovitev</th>\n",
       "    </tr>\n",
       "  </thead>\n",
       "  <tbody>\n",
       "    <tr>\n",
       "      <th>0</th>\n",
       "      <td>1.06</td>\n",
       "      <td>NaN</td>\n",
       "      <td>NaN</td>\n",
       "      <td>NaN</td>\n",
       "      <td>1.0</td>\n",
       "      <td>NaN</td>\n",
       "      <td>1.0</td>\n",
       "    </tr>\n",
       "    <tr>\n",
       "      <th>1</th>\n",
       "      <td>1.08</td>\n",
       "      <td>NaN</td>\n",
       "      <td>NaN</td>\n",
       "      <td>1.0</td>\n",
       "      <td>1.0</td>\n",
       "      <td>NaN</td>\n",
       "      <td>2.0</td>\n",
       "    </tr>\n",
       "    <tr>\n",
       "      <th>2</th>\n",
       "      <td>1.10</td>\n",
       "      <td>NaN</td>\n",
       "      <td>NaN</td>\n",
       "      <td>1.0</td>\n",
       "      <td>NaN</td>\n",
       "      <td>1.0</td>\n",
       "      <td>2.0</td>\n",
       "    </tr>\n",
       "    <tr>\n",
       "      <th>3</th>\n",
       "      <td>1.16</td>\n",
       "      <td>1.0</td>\n",
       "      <td>NaN</td>\n",
       "      <td>NaN</td>\n",
       "      <td>2.0</td>\n",
       "      <td>NaN</td>\n",
       "      <td>3.0</td>\n",
       "    </tr>\n",
       "    <tr>\n",
       "      <th>4</th>\n",
       "      <td>1.18</td>\n",
       "      <td>NaN</td>\n",
       "      <td>NaN</td>\n",
       "      <td>NaN</td>\n",
       "      <td>3.0</td>\n",
       "      <td>NaN</td>\n",
       "      <td>3.0</td>\n",
       "    </tr>\n",
       "  </tbody>\n",
       "</table>\n",
       "</div>"
      ],
      "text/plain": [
       "   index  odlitek1  odlitek2  odlitek3  odlitek4  odlitek5  vsota_ponovitev\n",
       "0   1.06       NaN       NaN       NaN       1.0       NaN              1.0\n",
       "1   1.08       NaN       NaN       1.0       1.0       NaN              2.0\n",
       "2   1.10       NaN       NaN       1.0       NaN       1.0              2.0\n",
       "3   1.16       1.0       NaN       NaN       2.0       NaN              3.0\n",
       "4   1.18       NaN       NaN       NaN       3.0       NaN              3.0"
      ]
     },
     "execution_count": 570,
     "metadata": {},
     "output_type": "execute_result"
    }
   ],
   "source": [
    "frekvence1 = frekvence.reset_index()\n",
    "frekvence1.head(5)"
   ]
  },
  {
   "cell_type": "code",
   "execution_count": 571,
   "metadata": {},
   "outputs": [],
   "source": [
    "#preimenujemo stolpec\n",
    "frekvence2 = frekvence1.rename(columns={'index':'vrednost'})\n",
    "\n",
    "#definiramo novo tabelo, ki vsebuje le vrednosti, ki jih potrebujemo\n",
    "frekvence3 = frekvence2[['vsota_ponovitev', 'vrednost']]"
   ]
  },
  {
   "cell_type": "markdown",
   "metadata": {},
   "source": [
    "Za vsako od vrednosti potrebujemo še število ponovitev te vrednosti če bi imeli normalno porazdelitev"
   ]
  },
  {
   "cell_type": "code",
   "execution_count": 572,
   "metadata": {},
   "outputs": [
    {
     "name": "stderr",
     "output_type": "stream",
     "text": [
      "<ipython-input-572-f4bf12c52905>:10: SettingWithCopyWarning: \n",
      "A value is trying to be set on a copy of a slice from a DataFrame.\n",
      "Try using .loc[row_indexer,col_indexer] = value instead\n",
      "\n",
      "See the caveats in the documentation: https://pandas.pydata.org/pandas-docs/stable/user_guide/indexing.html#returning-a-view-versus-a-copy\n",
      "  frekvence3['ponovitve_normalne'] = ponovitve_normalne\n"
     ]
    },
    {
     "data": {
      "text/html": [
       "<div>\n",
       "<style scoped>\n",
       "    .dataframe tbody tr th:only-of-type {\n",
       "        vertical-align: middle;\n",
       "    }\n",
       "\n",
       "    .dataframe tbody tr th {\n",
       "        vertical-align: top;\n",
       "    }\n",
       "\n",
       "    .dataframe thead th {\n",
       "        text-align: right;\n",
       "    }\n",
       "</style>\n",
       "<table border=\"1\" class=\"dataframe\">\n",
       "  <thead>\n",
       "    <tr style=\"text-align: right;\">\n",
       "      <th></th>\n",
       "      <th>vsota_ponovitev</th>\n",
       "      <th>vrednost</th>\n",
       "      <th>ponovitve_normalne</th>\n",
       "    </tr>\n",
       "  </thead>\n",
       "  <tbody>\n",
       "    <tr>\n",
       "      <th>0</th>\n",
       "      <td>1.0</td>\n",
       "      <td>1.06</td>\n",
       "      <td>0.219306</td>\n",
       "    </tr>\n",
       "    <tr>\n",
       "      <th>1</th>\n",
       "      <td>2.0</td>\n",
       "      <td>1.08</td>\n",
       "      <td>0.295259</td>\n",
       "    </tr>\n",
       "    <tr>\n",
       "      <th>2</th>\n",
       "      <td>2.0</td>\n",
       "      <td>1.10</td>\n",
       "      <td>0.390603</td>\n",
       "    </tr>\n",
       "    <tr>\n",
       "      <th>3</th>\n",
       "      <td>3.0</td>\n",
       "      <td>1.16</td>\n",
       "      <td>0.813981</td>\n",
       "    </tr>\n",
       "    <tr>\n",
       "      <th>4</th>\n",
       "      <td>3.0</td>\n",
       "      <td>1.18</td>\n",
       "      <td>1.003847</td>\n",
       "    </tr>\n",
       "    <tr>\n",
       "      <th>5</th>\n",
       "      <td>1.0</td>\n",
       "      <td>1.20</td>\n",
       "      <td>1.216468</td>\n",
       "    </tr>\n",
       "    <tr>\n",
       "      <th>6</th>\n",
       "      <td>2.0</td>\n",
       "      <td>1.22</td>\n",
       "      <td>1.448487</td>\n",
       "    </tr>\n",
       "    <tr>\n",
       "      <th>7</th>\n",
       "      <td>1.0</td>\n",
       "      <td>1.24</td>\n",
       "      <td>1.694762</td>\n",
       "    </tr>\n",
       "    <tr>\n",
       "      <th>8</th>\n",
       "      <td>3.0</td>\n",
       "      <td>1.26</td>\n",
       "      <td>1.948423</td>\n",
       "    </tr>\n",
       "    <tr>\n",
       "      <th>9</th>\n",
       "      <td>8.0</td>\n",
       "      <td>1.28</td>\n",
       "      <td>2.201092</td>\n",
       "    </tr>\n",
       "  </tbody>\n",
       "</table>\n",
       "</div>"
      ],
      "text/plain": [
       "   vsota_ponovitev  vrednost  ponovitve_normalne\n",
       "0              1.0      1.06            0.219306\n",
       "1              2.0      1.08            0.295259\n",
       "2              2.0      1.10            0.390603\n",
       "3              3.0      1.16            0.813981\n",
       "4              3.0      1.18            1.003847\n",
       "5              1.0      1.20            1.216468\n",
       "6              2.0      1.22            1.448487\n",
       "7              1.0      1.24            1.694762\n",
       "8              3.0      1.26            1.948423\n",
       "9              8.0      1.28            2.201092"
      ]
     },
     "execution_count": 572,
     "metadata": {},
     "output_type": "execute_result"
    }
   ],
   "source": [
    "#definirajmo seznam ponovitev normalne\n",
    "ponovitve_normalne = []\n",
    "for i in frekvence3.vrednost:\n",
    "    x0 = i - 0.02\n",
    "    x1 = i + 0.02  #i bo ravno sredisce intervala\n",
    "    p = norm.cdf((x1-povprecje)/standardni_odklon) - norm.cdf((x0-povprecje)/standardni_odklon)\n",
    "    n = 30\n",
    "    ponovitve_normalne.append(n*p)\n",
    "\n",
    "frekvence3['ponovitve_normalne'] = ponovitve_normalne\n",
    "frekvence3.head(10)"
   ]
  },
  {
   "cell_type": "markdown",
   "metadata": {},
   "source": [
    "Izračunamo še razliko med ponovitvami."
   ]
  },
  {
   "cell_type": "code",
   "execution_count": 573,
   "metadata": {},
   "outputs": [],
   "source": [
    "list = []\n",
    "for i in range(31):\n",
    "    razlika = math.sqrt(frekvence3.vsota_ponovitev[i]) - math.sqrt(frekvence3.ponovitve_normalne[i])\n",
    "    list.append(razlika)"
   ]
  },
  {
   "cell_type": "code",
   "execution_count": 574,
   "metadata": {},
   "outputs": [
    {
     "name": "stderr",
     "output_type": "stream",
     "text": [
      "<ipython-input-574-ab97270c489e>:1: SettingWithCopyWarning: \n",
      "A value is trying to be set on a copy of a slice from a DataFrame.\n",
      "Try using .loc[row_indexer,col_indexer] = value instead\n",
      "\n",
      "See the caveats in the documentation: https://pandas.pydata.org/pandas-docs/stable/user_guide/indexing.html#returning-a-view-versus-a-copy\n",
      "  frekvence3['razlika'] = list\n"
     ]
    },
    {
     "data": {
      "text/html": [
       "<div>\n",
       "<style scoped>\n",
       "    .dataframe tbody tr th:only-of-type {\n",
       "        vertical-align: middle;\n",
       "    }\n",
       "\n",
       "    .dataframe tbody tr th {\n",
       "        vertical-align: top;\n",
       "    }\n",
       "\n",
       "    .dataframe thead th {\n",
       "        text-align: right;\n",
       "    }\n",
       "</style>\n",
       "<table border=\"1\" class=\"dataframe\">\n",
       "  <thead>\n",
       "    <tr style=\"text-align: right;\">\n",
       "      <th></th>\n",
       "      <th>vsota_ponovitev</th>\n",
       "      <th>vrednost</th>\n",
       "      <th>ponovitve_normalne</th>\n",
       "      <th>razlika</th>\n",
       "    </tr>\n",
       "  </thead>\n",
       "  <tbody>\n",
       "    <tr>\n",
       "      <th>0</th>\n",
       "      <td>1.0</td>\n",
       "      <td>1.06</td>\n",
       "      <td>0.219306</td>\n",
       "      <td>0.531699</td>\n",
       "    </tr>\n",
       "    <tr>\n",
       "      <th>1</th>\n",
       "      <td>2.0</td>\n",
       "      <td>1.08</td>\n",
       "      <td>0.295259</td>\n",
       "      <td>0.870836</td>\n",
       "    </tr>\n",
       "    <tr>\n",
       "      <th>2</th>\n",
       "      <td>2.0</td>\n",
       "      <td>1.10</td>\n",
       "      <td>0.390603</td>\n",
       "      <td>0.789231</td>\n",
       "    </tr>\n",
       "    <tr>\n",
       "      <th>3</th>\n",
       "      <td>3.0</td>\n",
       "      <td>1.16</td>\n",
       "      <td>0.813981</td>\n",
       "      <td>0.829842</td>\n",
       "    </tr>\n",
       "    <tr>\n",
       "      <th>4</th>\n",
       "      <td>3.0</td>\n",
       "      <td>1.18</td>\n",
       "      <td>1.003847</td>\n",
       "      <td>0.730129</td>\n",
       "    </tr>\n",
       "    <tr>\n",
       "      <th>5</th>\n",
       "      <td>1.0</td>\n",
       "      <td>1.20</td>\n",
       "      <td>1.216468</td>\n",
       "      <td>-0.102936</td>\n",
       "    </tr>\n",
       "    <tr>\n",
       "      <th>6</th>\n",
       "      <td>2.0</td>\n",
       "      <td>1.22</td>\n",
       "      <td>1.448487</td>\n",
       "      <td>0.210683</td>\n",
       "    </tr>\n",
       "    <tr>\n",
       "      <th>7</th>\n",
       "      <td>1.0</td>\n",
       "      <td>1.24</td>\n",
       "      <td>1.694762</td>\n",
       "      <td>-0.301830</td>\n",
       "    </tr>\n",
       "    <tr>\n",
       "      <th>8</th>\n",
       "      <td>3.0</td>\n",
       "      <td>1.26</td>\n",
       "      <td>1.948423</td>\n",
       "      <td>0.336192</td>\n",
       "    </tr>\n",
       "    <tr>\n",
       "      <th>9</th>\n",
       "      <td>8.0</td>\n",
       "      <td>1.28</td>\n",
       "      <td>2.201092</td>\n",
       "      <td>1.344819</td>\n",
       "    </tr>\n",
       "  </tbody>\n",
       "</table>\n",
       "</div>"
      ],
      "text/plain": [
       "   vsota_ponovitev  vrednost  ponovitve_normalne   razlika\n",
       "0              1.0      1.06            0.219306  0.531699\n",
       "1              2.0      1.08            0.295259  0.870836\n",
       "2              2.0      1.10            0.390603  0.789231\n",
       "3              3.0      1.16            0.813981  0.829842\n",
       "4              3.0      1.18            1.003847  0.730129\n",
       "5              1.0      1.20            1.216468 -0.102936\n",
       "6              2.0      1.22            1.448487  0.210683\n",
       "7              1.0      1.24            1.694762 -0.301830\n",
       "8              3.0      1.26            1.948423  0.336192\n",
       "9              8.0      1.28            2.201092  1.344819"
      ]
     },
     "execution_count": 574,
     "metadata": {},
     "output_type": "execute_result"
    }
   ],
   "source": [
    "frekvence3['razlika'] = list\n",
    "frekvence3.head(10)"
   ]
  },
  {
   "cell_type": "markdown",
   "metadata": {},
   "source": [
    "Narišemo histogram"
   ]
  },
  {
   "cell_type": "code",
   "execution_count": 575,
   "metadata": {},
   "outputs": [
    {
     "data": {
      "text/plain": [
       "<AxesSubplot:xlabel='vrednost'>"
      ]
     },
     "execution_count": 575,
     "metadata": {},
     "output_type": "execute_result"
    },
    {
     "data": {
      "image/png": "[encoded data removed]",
      "text/plain": [
       "<Figure size 432x288 with 1 Axes>"
      ]
     },
     "metadata": {
      "needs_background": "light"
     },
     "output_type": "display_data"
    }
   ],
   "source": [
    "frekvence3.plot.bar(x='vrednost', y='razlika')"
   ]
  },
  {
   "cell_type": "markdown",
   "metadata": {},
   "source": [
    "**primerjalni kvantilni (Q–Q) grafikon**\n",
    "\n",
    "---"
   ]
  },
  {
   "cell_type": "code",
   "execution_count": 576,
   "metadata": {},
   "outputs": [],
   "source": [
    "#dodamo stolpec z povprečji\n",
    "Mangan['povprecje'] = (Mangan.odlitek1 + Mangan.odlitek2 + Mangan.odlitek3 + Mangan.odlitek4 + Mangan.odlitek5) / 5"
   ]
  },
  {
   "cell_type": "code",
   "execution_count": 577,
   "metadata": {},
   "outputs": [
    {
     "data": {
      "image/png": "[encoded data removed]",
      "text/plain": [
       "<Figure size 432x288 with 1 Axes>"
      ]
     },
     "metadata": {
      "needs_background": "light"
     },
     "output_type": "display_data"
    }
   ],
   "source": [
    "#obravnavamo povprečja deležev\n",
    "podatki_normalne = numpy.random.normal(povprecje,standardni_odklon,24)\n",
    "podatki_normalne.sort()\n",
    "\n",
    "seznam_povprecij = Mangan.povprecje.tolist()\n",
    "seznam_povprecij.sort()\n",
    "\n",
    "plt.scatter(seznam_povprecij,podatki_normalne)\n",
    "plt.plot([min(seznam_povprecij),max(seznam_povprecij)],[min(seznam_povprecij),max(seznam_povprecij)],color=\"red\")\n",
    "\n",
    "plt.xlabel(\"povprečja\")\n",
    "plt.ylabel(\"normalna porazdelitev\")\n",
    "plt.show()"
   ]
  },
  {
   "cell_type": "code",
   "execution_count": 578,
   "metadata": {},
   "outputs": [
    {
     "data": {
      "image/png": "[encoded data removed]",
      "text/plain": [
       "<Figure size 432x288 with 1 Axes>"
      ]
     },
     "metadata": {
      "needs_background": "light"
     },
     "output_type": "display_data"
    }
   ],
   "source": [
    "#obravnavamo vse deleže\n",
    "podatki_normalne = numpy.random.normal(povprecje,standardni_odklon,len(delezi))\n",
    "podatki_normalne.sort()\n",
    "\n",
    "delezi.sort()\n",
    "\n",
    "plt.scatter(delezi,podatki_normalne)\n",
    "plt.plot([min(delezi),max(delezi)],[min(delezi),max(delezi)],color=\"red\")\n",
    "\n",
    "plt.xlabel(\"deleži mangana v odlitkih\")\n",
    "plt.ylabel(\"normalna porazdelitev\")\n",
    "plt.show()"
   ]
  },
  {
   "cell_type": "code",
   "execution_count": null,
   "metadata": {},
   "outputs": [],
   "source": []
  }
 ],
 "metadata": {
  "kernelspec": {
   "display_name": "Python 3.8.1 32-bit",
   "language": "python",
   "name": "python3"
  },
  "language_info": {
   "codemirror_mode": {
    "name": "ipython",
    "version": 3
   },
   "file_extension": ".py",
   "mimetype": "text/x-python",
   "name": "python",
   "nbconvert_exporter": "python",
   "pygments_lexer": "ipython3",
   "version": "3.8.1"
  },
  "orig_nbformat": 4,
  "vscode": {
   "interpreter": {
    "hash": "d44a91e7fadf32c41ede04034de35649a715fd53783fc7a039f1b7d87b9a8545"
   }
  }
 },
 "nbformat": 4,
 "nbformat_minor": 2
}
