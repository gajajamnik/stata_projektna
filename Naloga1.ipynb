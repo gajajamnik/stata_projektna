{
 "cells": [
  {
   "cell_type": "markdown",
   "metadata": {},
   "source": [
    "# Naloga 1: Kibergrad"
   ]
  },
  {
   "cell_type": "code",
   "execution_count": 410,
   "metadata": {},
   "outputs": [],
   "source": [
    "import pandas as pd\n",
    "import math\n",
    "import numpy\n",
    "from random import seed, randint\n",
    "import matplotlib.pyplot as plt\n",
    "import statistics\n",
    "import random\n",
    "from statsmodels.graphics.gofplots import qqplot\n",
    "from scipy.stats import norm"
   ]
  },
  {
   "cell_type": "code",
   "execution_count": 411,
   "metadata": {},
   "outputs": [],
   "source": [
    "Kibergrad = pd.read_csv(\"Kibergrad.csv\")"
   ]
  },
  {
   "cell_type": "markdown",
   "metadata": {},
   "source": [
    "### A naloga"
   ]
  },
  {
   "cell_type": "markdown",
   "metadata": {},
   "source": [
    "Narišite histogram dohodkov vseh družin v Kibergradu. Pri tem dohodke razdelite v enako široke razrede. Širino posameznega razreda določite v skladu s Freedman–Diaconisovim pravilom."
   ]
  },
  {
   "cell_type": "code",
   "execution_count": 412,
   "metadata": {},
   "outputs": [
    {
     "data": {
      "text/plain": [
       "array([-22166.  ,  18300.  ,  34550.  ,  55827.75, 451887.  ])"
      ]
     },
     "execution_count": 412,
     "metadata": {},
     "output_type": "execute_result"
    }
   ],
   "source": [
    "#izračunamo kvartile\n",
    "dohodki = Kibergrad.dohodek\n",
    "x = numpy.quantile(dohodki, [0,0.25,0.5,0.75,1])\n",
    "x"
   ]
  },
  {
   "cell_type": "code",
   "execution_count": 413,
   "metadata": {},
   "outputs": [],
   "source": [
    "#definiramo prvi in drugi kvartil\n",
    "q1 = x[1]\n",
    "q3 = x[3]    "
   ]
  },
  {
   "cell_type": "code",
   "execution_count": 414,
   "metadata": {},
   "outputs": [
    {
     "data": {
      "text/plain": [
       "43886"
      ]
     },
     "execution_count": 414,
     "metadata": {},
     "output_type": "execute_result"
    }
   ],
   "source": [
    "#število vseh družin\n",
    "n = len(dohodki) \n",
    "n"
   ]
  },
  {
   "cell_type": "markdown",
   "metadata": {},
   "source": [
    "Dolžina razreda po Freedman-Diaconisovim pravilu"
   ]
  },
  {
   "cell_type": "code",
   "execution_count": 415,
   "metadata": {},
   "outputs": [
    {
     "data": {
      "text/plain": [
       "2127.8476148224045"
      ]
     },
     "execution_count": 415,
     "metadata": {},
     "output_type": "execute_result"
    }
   ],
   "source": [
    "#dolžina razreda\n",
    "l = 2*(q3 - q1)/n**(1/3)\n",
    "l"
   ]
  },
  {
   "cell_type": "markdown",
   "metadata": {},
   "source": [
    "Vrednost l nato smiselno zaokrožite na število oblike k · 10^r"
   ]
  },
  {
   "cell_type": "code",
   "execution_count": 416,
   "metadata": {},
   "outputs": [],
   "source": [
    "l1 = 2 * 10**3  #zaokorzen l"
   ]
  },
  {
   "cell_type": "markdown",
   "metadata": {},
   "source": [
    "Število razredov"
   ]
  },
  {
   "cell_type": "code",
   "execution_count": 417,
   "metadata": {},
   "outputs": [
    {
     "data": {
      "text/plain": [
       "21.943"
      ]
     },
     "execution_count": 417,
     "metadata": {},
     "output_type": "execute_result"
    }
   ],
   "source": [
    "n/l1"
   ]
  },
  {
   "cell_type": "markdown",
   "metadata": {},
   "source": [
    "Najmanjši dohodek"
   ]
  },
  {
   "cell_type": "code",
   "execution_count": 418,
   "metadata": {},
   "outputs": [
    {
     "data": {
      "text/plain": [
       "-22166"
      ]
     },
     "execution_count": 418,
     "metadata": {},
     "output_type": "execute_result"
    }
   ],
   "source": [
    "m = min(dohodki)\n",
    "m"
   ]
  },
  {
   "cell_type": "markdown",
   "metadata": {},
   "source": [
    "Najvišji dohodek"
   ]
  },
  {
   "cell_type": "code",
   "execution_count": 419,
   "metadata": {},
   "outputs": [
    {
     "data": {
      "text/plain": [
       "451887"
      ]
     },
     "execution_count": 419,
     "metadata": {},
     "output_type": "execute_result"
    }
   ],
   "source": [
    "M = max(dohodki)\n",
    "M"
   ]
  },
  {
   "cell_type": "markdown",
   "metadata": {},
   "source": [
    "Tabelo uredimo po naraščajočih se dohodkih"
   ]
  },
  {
   "cell_type": "code",
   "execution_count": 420,
   "metadata": {},
   "outputs": [],
   "source": [
    "Kibergrad_urejen = Kibergrad.sort_values('dohodek').reset_index()"
   ]
  },
  {
   "cell_type": "markdown",
   "metadata": {},
   "source": [
    "Histogram dohodkov vseh družin v Kibergradu"
   ]
  },
  {
   "cell_type": "code",
   "execution_count": 421,
   "metadata": {},
   "outputs": [
    {
     "data": {
      "text/plain": [
       "(array([3.7000e+01, 1.2785e+04, 1.3841e+04, 9.0400e+03, 4.3090e+03,\n",
       "        2.1020e+03, 9.1400e+02, 4.4000e+02, 2.0300e+02, 9.6000e+01,\n",
       "        5.1000e+01, 2.8000e+01, 7.0000e+00, 1.4000e+01, 7.0000e+00,\n",
       "        4.0000e+00, 3.0000e+00, 0.0000e+00, 3.0000e+00, 0.0000e+00,\n",
       "        0.0000e+00, 2.0000e+00]),\n",
       " array([-22166.        ,   -618.13636364,  20929.72727273,  42477.59090909,\n",
       "         64025.45454545,  85573.31818182, 107121.18181818, 128669.04545455,\n",
       "        150216.90909091, 171764.77272727, 193312.63636364, 214860.5       ,\n",
       "        236408.36363636, 257956.22727273, 279504.09090909, 301051.95454545,\n",
       "        322599.81818182, 344147.68181818, 365695.54545455, 387243.40909091,\n",
       "        408791.27272727, 430339.13636364, 451887.        ]),\n",
       " <BarContainer object of 22 artists>)"
      ]
     },
     "execution_count": 421,
     "metadata": {},
     "output_type": "execute_result"
    },
    {
     "data": {
      "image/png": "[encoded data removed]",
      "text/plain": [
       "<Figure size 432x288 with 1 Axes>"
      ]
     },
     "metadata": {
      "needs_background": "light"
     },
     "output_type": "display_data"
    }
   ],
   "source": [
    "plt.hist(Kibergrad.dohodek, bins=22)"
   ]
  },
  {
   "cell_type": "markdown",
   "metadata": {},
   "source": [
    "Histogram: na y osi je število družin, ki ima dohodek iz x osi"
   ]
  },
  {
   "cell_type": "markdown",
   "metadata": {},
   "source": [
    "### B naloga"
   ]
  },
  {
   "cell_type": "markdown",
   "metadata": {},
   "source": [
    "Dorišite normalno gostoto, katere pričakovana vrednost in standardni odklon\n",
    "se ujemata s povprečjem in standardnim odklonom dohodka družine v Kibergradu. Kako dobro se prilega?"
   ]
  },
  {
   "cell_type": "code",
   "execution_count": 422,
   "metadata": {},
   "outputs": [
    {
     "data": {
      "text/plain": [
       "41335.50704096979"
      ]
     },
     "execution_count": 422,
     "metadata": {},
     "output_type": "execute_result"
    }
   ],
   "source": [
    "#pričakovana vrednost se ujema s povprečjem\n",
    "povprecje = Kibergrad.dohodek.mean()\n",
    "povprecje"
   ]
  },
  {
   "cell_type": "code",
   "execution_count": 423,
   "metadata": {},
   "outputs": [
    {
     "data": {
      "text/plain": [
       "32037.61941788666"
      ]
     },
     "execution_count": 423,
     "metadata": {},
     "output_type": "execute_result"
    }
   ],
   "source": [
    "#standardni odklon izracunamo s pomocjo funkcije .std()\n",
    "standardni_odklon = Kibergrad.dohodek.std()\n",
    "standardni_odklon"
   ]
  },
  {
   "cell_type": "code",
   "execution_count": 424,
   "metadata": {},
   "outputs": [],
   "source": [
    "# gostota normalne porazdelitve\n",
    "\n",
    "def normalna(x, pov, st):\n",
    "    return 1/ (standardni_odklon*(2*math.pi)**0.5) * math.e**(-0.5*((x-pov)/st)**2)"
   ]
  },
  {
   "cell_type": "code",
   "execution_count": 425,
   "metadata": {},
   "outputs": [
    {
     "data": {
      "image/png": "[encoded data removed]",
      "text/plain": [
       "<Figure size 432x288 with 1 Axes>"
      ]
     },
     "metadata": {
      "needs_background": "light"
     },
     "output_type": "display_data"
    }
   ],
   "source": [
    "#koda vzeta iz strani https://www.geeksforgeeks.org/how-to-plot-normal-distribution-over-histogram-in-python/\n",
    "\n",
    "# Plot the histogram.\n",
    "plt.hist(Kibergrad.dohodek, bins=25, density=True, alpha=0.6, color='b')\n",
    "  \n",
    "# Plot the PDF.\n",
    "xmin, xmax = plt.xlim()\n",
    "x = numpy.linspace(xmin, xmax, 100)\n",
    "p = normalna(x, povprecje, standardni_odklon)\n",
    "\n",
    "  \n",
    "plt.plot(x, p, 'k', linewidth=2)\n",
    "title = \"Dohodki družin v Kibergradu\".format(povprecje, standardni_odklon)\n",
    "plt.title(title)\n",
    "  \n",
    "plt.show()"
   ]
  },
  {
   "cell_type": "markdown",
   "metadata": {},
   "source": [
    "### C naloga"
   ]
  },
  {
   "cell_type": "markdown",
   "metadata": {},
   "source": [
    "Narišite kumulativno porazdelitveno funkcijo porazdelitve dohodkov družin v\n",
    "Kibergradu in primerjajte s kumulativno porazdelitveno funkcijo ustrezne normalne porazdelitve. Spet komentirajte, kako dobro se prilega."
   ]
  },
  {
   "cell_type": "markdown",
   "metadata": {},
   "source": [
    "Kumulativna porazdelitvena funkcija porazdelitve dohodkov družin v\n",
    "Kibergradu"
   ]
  },
  {
   "cell_type": "code",
   "execution_count": 426,
   "metadata": {},
   "outputs": [],
   "source": [
    "# kumulativna porazdelitvena funkcija\n",
    "def cdf(x):\n",
    "    stevec = 0\n",
    "    for i in range(43886):\n",
    "        if int(Kibergrad_urejen.dohodek.iloc[i]) <= x:\n",
    "            stevec += 1\n",
    "    return stevec/43886"
   ]
  },
  {
   "cell_type": "code",
   "execution_count": 427,
   "metadata": {},
   "outputs": [
    {
     "data": {
      "text/plain": [
       "[<matplotlib.lines.Line2D at 0x2f66b640>]"
      ]
     },
     "execution_count": 427,
     "metadata": {},
     "output_type": "execute_result"
    },
    {
     "data": {
      "image/png": "[encoded data removed]",
      "text/plain": [
       "<Figure size 432x288 with 1 Axes>"
      ]
     },
     "metadata": {
      "needs_background": "light"
     },
     "output_type": "display_data"
    }
   ],
   "source": [
    "#koda iz strani https://www.statology.org/cdf-python/\n",
    "#sort data\n",
    "x = numpy.sort(Kibergrad.dohodek)\n",
    "\n",
    "#calculate CDF values\n",
    "y = 1. * numpy.arange(len(Kibergrad.dohodek)) / (len(Kibergrad.dohodek) - 1)\n",
    "\n",
    "#plot CDF\n",
    "plt.plot(x, y)"
   ]
  },
  {
   "cell_type": "markdown",
   "metadata": {},
   "source": [
    "Kumulativna porazdelitvena funkcija ustrezne normalne porazdelitve"
   ]
  },
  {
   "cell_type": "code",
   "execution_count": 428,
   "metadata": {},
   "outputs": [
    {
     "data": {
      "text/plain": [
       "[<matplotlib.lines.Line2D at 0x2f92cce8>]"
      ]
     },
     "execution_count": 428,
     "metadata": {},
     "output_type": "execute_result"
    },
    {
     "data": {
      "image/png": "[encoded data removed]",
      "text/plain": [
       "<Figure size 432x288 with 1 Axes>"
      ]
     },
     "metadata": {
      "needs_background": "light"
     },
     "output_type": "display_data"
    }
   ],
   "source": [
    "x = numpy.linspace(m, M, 10000)\n",
    "y = []\n",
    "for i in x:\n",
    "    y.append(statistics.NormalDist(povprecje, standardni_odklon).pdf(i))\n",
    "\n",
    "plt.plot(x, y)"
   ]
  },
  {
   "cell_type": "markdown",
   "metadata": {},
   "source": [
    "Primerjava"
   ]
  },
  {
   "cell_type": "markdown",
   "metadata": {},
   "source": [
    "***\n",
    "**preveri ali se da narisat v isti graf!!!**\n",
    "\n",
    "***"
   ]
  },
  {
   "cell_type": "markdown",
   "metadata": {},
   "source": [
    "### D naloga"
   ]
  },
  {
   "cell_type": "markdown",
   "metadata": {},
   "source": [
    "Narišite še primerjalni kvantilni (Q–Q) grafikon, ki porazdelitev dohodkov\n",
    "družin v Kibergradu primerja z normalno porazdelitvijo"
   ]
  },
  {
   "cell_type": "code",
   "execution_count": 446,
   "metadata": {},
   "outputs": [
    {
     "data": {
      "image/png": "[encoded data removed]",
      "text/plain": [
       "<Figure size 432x288 with 1 Axes>"
      ]
     },
     "metadata": {
      "needs_background": "light"
     },
     "output_type": "display_data"
    }
   ],
   "source": [
    "podatki_normalne = numpy.random.normal(povprecje,standardni_odklon,43886)\n",
    "podatki_normalne.sort()\n",
    "\n",
    "podatki_dohodkov = Kibergrad_urejen.dohodek\n",
    "\n",
    "plt.scatter(podatki_dohodkov,podatki_normalne)\n",
    "#plt.plot([min(podatki_dohodkov),max(podatki_dohodkov)],[min(podatki_dohodkov),max(podatki_dohodkov)],color=\"red\")\n",
    "plt.xlabel(\"porazdelitev dohodkov\")\n",
    "plt.ylabel(\"normalna porazdelitev\")\n",
    "plt.show()"
   ]
  },
  {
   "cell_type": "markdown",
   "metadata": {},
   "source": [
    "### E naloga"
   ]
  },
  {
   "cell_type": "markdown",
   "metadata": {},
   "source": [
    "Vzemite 1000 enostavnih slučajnih vzorcev velikosti 400 in narišite histogram\n",
    "vzorčnih povprečij dohodkov družin"
   ]
  },
  {
   "cell_type": "code",
   "execution_count": 431,
   "metadata": {},
   "outputs": [],
   "source": [
    "seznam_povprecij = []\n",
    "for j in range(1000):\n",
    "    seznam_dohodkov = []\n",
    "    for i in range(0,400):\n",
    "        n = random.randint(0,43885)\n",
    "        d = Kibergrad.dohodek[n]\n",
    "        seznam_dohodkov.append(d)\n",
    "    seznam_povprecij.append(sum(seznam_dohodkov) / len(seznam_dohodkov))"
   ]
  },
  {
   "cell_type": "code",
   "execution_count": 432,
   "metadata": {},
   "outputs": [
    {
     "data": {
      "text/plain": [
       "(array([  4.,  33.,  98., 223., 265., 220., 108.,  42.,   5.,   2.]),\n",
       " array([36130.6225, 37275.0665, 38419.5105, 39563.9545, 40708.3985,\n",
       "        41852.8425, 42997.2865, 44141.7305, 45286.1745, 46430.6185,\n",
       "        47575.0625]),\n",
       " <BarContainer object of 10 artists>)"
      ]
     },
     "execution_count": 432,
     "metadata": {},
     "output_type": "execute_result"
    },
    {
     "data": {
      "image/png": "[encoded data removed]",
      "text/plain": [
       "<Figure size 432x288 with 1 Axes>"
      ]
     },
     "metadata": {
      "needs_background": "light"
     },
     "output_type": "display_data"
    }
   ],
   "source": [
    "plt.hist(seznam_povprecij)"
   ]
  },
  {
   "cell_type": "markdown",
   "metadata": {},
   "source": [
    "**Preveri ali je tako misljen histogram**"
   ]
  },
  {
   "cell_type": "markdown",
   "metadata": {},
   "source": [
    "### F naloga"
   ]
  },
  {
   "cell_type": "markdown",
   "metadata": {},
   "source": [
    "Dorišite normalno gostoto, katere pričakovana vrednost se ujema s povprečnim\n",
    "dohodkom na družino v Kibergradu, standardni odklon pa s standardno napako\n",
    "za enostavni slučajni vzorec velikosti 400. Komentirajte, kako dobro se prilega."
   ]
  },
  {
   "cell_type": "code",
   "execution_count": 433,
   "metadata": {},
   "outputs": [
    {
     "data": {
      "text/plain": [
       "41335.50704096979"
      ]
     },
     "execution_count": 433,
     "metadata": {},
     "output_type": "execute_result"
    }
   ],
   "source": [
    "# pričakovana vrednost = povprečje dohodkov v celotni populaciji\n",
    "pričakovana_vrednost = sum(Kibergrad.dohodek)/len(Kibergrad.dohodek)\n",
    "pričakovana_vrednost"
   ]
  },
  {
   "cell_type": "code",
   "execution_count": 434,
   "metadata": {},
   "outputs": [
    {
     "data": {
      "text/plain": [
       "152.9316022480974"
      ]
     },
     "execution_count": 434,
     "metadata": {},
     "output_type": "execute_result"
    }
   ],
   "source": [
    "#standardni odklon = SE za enostavni slučajni vzorec velikostni 400\n",
    "\n",
    "se = Kibergrad.dohodek.sem()\n",
    "se"
   ]
  },
  {
   "cell_type": "code",
   "execution_count": 442,
   "metadata": {},
   "outputs": [
    {
     "data": {
      "text/plain": [
       "152.9316022480974"
      ]
     },
     "execution_count": 442,
     "metadata": {},
     "output_type": "execute_result"
    }
   ],
   "source": [
    "#drugi način za zračunat se\n",
    "numpy.std(Kibergrad.dohodek, ddof=1) / numpy.sqrt(numpy.size(Kibergrad.dohodek))"
   ]
  },
  {
   "cell_type": "code",
   "execution_count": 441,
   "metadata": {},
   "outputs": [
    {
     "data": {
      "image/png": "[encoded data removed]",
      "text/plain": [
       "<Figure size 432x288 with 1 Axes>"
      ]
     },
     "metadata": {
      "needs_background": "light"
     },
     "output_type": "display_data"
    }
   ],
   "source": [
    "# Plot the histogram.\n",
    "from turtle import color\n",
    "\n",
    "\n",
    "plt.hist(seznam_povprecij)\n",
    "  \n",
    "# Plot the PDF.\n",
    "xmin, xmax = plt.xlim()\n",
    "x = numpy.linspace(xmin, xmax, 100)\n",
    "p = normalna(x, pričakovana_vrednost, se)\n",
    "\n",
    "  \n",
    "plt.plot(x, p, 'k', linewidth=2, color='r')\n",
    "  \n",
    "plt.show()"
   ]
  },
  {
   "cell_type": "markdown",
   "metadata": {},
   "source": [
    "### G naloga"
   ]
  },
  {
   "cell_type": "markdown",
   "metadata": {},
   "source": [
    "Za vzorčna povprečja podobno kot prej narišite še kumulativno porazdelitveno\n",
    "funkcijo in primerjalni kvantilni grafikon ter primerjajte z normalno porazdelitvijo. Komentirajte prileganje."
   ]
  },
  {
   "cell_type": "markdown",
   "metadata": {},
   "source": [
    "KUMULATIVNA PORAZDELITVENA FUNKCIJA"
   ]
  },
  {
   "cell_type": "code",
   "execution_count": 437,
   "metadata": {},
   "outputs": [
    {
     "data": {
      "text/plain": [
       "[<matplotlib.lines.Line2D at 0x2fe49808>]"
      ]
     },
     "execution_count": 437,
     "metadata": {},
     "output_type": "execute_result"
    },
    {
     "data": {
      "image/png": "[encoded data removed]",
      "text/plain": [
       "<Figure size 432x288 with 1 Axes>"
      ]
     },
     "metadata": {
      "needs_background": "light"
     },
     "output_type": "display_data"
    }
   ],
   "source": [
    "#KUMULATIVNA PORAZDELITVENA FUNKCIJA\n",
    "\n",
    "#plot CDF\n",
    "#sort data\n",
    "x = numpy.sort(seznam_povprecij)\n",
    "\n",
    "#calculate CDF values\n",
    "y = 1. * numpy.arange(len(seznam_povprecij)) / (len(seznam_povprecij) - 1)\n",
    "\n",
    "#plot CDF\n",
    "plt.plot(x, y)"
   ]
  },
  {
   "cell_type": "markdown",
   "metadata": {},
   "source": [
    "KVANTILNI GRAFIKON"
   ]
  },
  {
   "cell_type": "code",
   "execution_count": 444,
   "metadata": {},
   "outputs": [
    {
     "data": {
      "image/png": "[encoded data removed]",
      "text/plain": [
       "<Figure size 432x288 with 1 Axes>"
      ]
     },
     "metadata": {
      "needs_background": "light"
     },
     "output_type": "display_data"
    }
   ],
   "source": [
    "podatki_normalne = numpy.random.normal(pričakovana_vrednost,se,1000)\n",
    "podatki_normalne.sort()\n",
    "\n",
    "seznam_povprecij.sort()\n",
    "\n",
    "plt.scatter(seznam_povprecij,podatki_normalne)\n",
    "\n",
    "plt.xlabel(\"povprečja\")\n",
    "plt.ylabel(\"normalna porazdelitev\")\n",
    "plt.show()"
   ]
  }
 ],
 "metadata": {
  "kernelspec": {
   "display_name": "Python 3.8.1 32-bit",
   "language": "python",
   "name": "python3"
  },
  "language_info": {
   "codemirror_mode": {
    "name": "ipython",
    "version": 3
   },
   "file_extension": ".py",
   "mimetype": "text/x-python",
   "name": "python",
   "nbconvert_exporter": "python",
   "pygments_lexer": "ipython3",
   "version": "3.8.1"
  },
  "orig_nbformat": 4,
  "vscode": {
   "interpreter": {
    "hash": "d44a91e7fadf32c41ede04034de35649a715fd53783fc7a039f1b7d87b9a8545"
   }
  }
 },
 "nbformat": 4,
 "nbformat_minor": 2
}
