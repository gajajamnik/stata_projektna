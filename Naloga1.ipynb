{
 "cells": [
  {
   "cell_type": "markdown",
   "metadata": {},
   "source": [
    "# Naloga 1: Kibergrad"
   ]
  },
  {
   "cell_type": "code",
   "execution_count": 620,
   "metadata": {},
   "outputs": [],
   "source": [
    "import pandas as pd\n",
    "import math\n",
    "import numpy\n",
    "from random import seed, randint\n",
    "import matplotlib.pyplot as plt\n",
    "import statistics\n",
    "import random\n",
    "from statsmodels.graphics.gofplots import qqplot\n",
    "from scipy.stats import norm, sem\n",
    "from scipy import stats"
   ]
  },
  {
   "cell_type": "code",
   "execution_count": 621,
   "metadata": {},
   "outputs": [],
   "source": [
    "Kibergrad = pd.read_csv(\"Kibergrad.csv\")"
   ]
  },
  {
   "cell_type": "code",
   "execution_count": 622,
   "metadata": {},
   "outputs": [
    {
     "data": {
      "text/plain": [
       "-22166"
      ]
     },
     "execution_count": 622,
     "metadata": {},
     "output_type": "execute_result"
    }
   ],
   "source": [
    "min(Kibergrad.dohodek)"
   ]
  },
  {
   "cell_type": "code",
   "execution_count": 623,
   "metadata": {},
   "outputs": [
    {
     "data": {
      "text/plain": [
       "451887"
      ]
     },
     "execution_count": 623,
     "metadata": {},
     "output_type": "execute_result"
    }
   ],
   "source": [
    "max(Kibergrad.dohodek)"
   ]
  },
  {
   "cell_type": "markdown",
   "metadata": {},
   "source": [
    "### A naloga"
   ]
  },
  {
   "cell_type": "markdown",
   "metadata": {},
   "source": [
    "**Narišite histogram dohodkov vseh družin v Kibergradu. Pri tem dohodke razdelite v enako široke razrede. Širino posameznega razreda določite v skladu s Freedman–Diaconisovim pravilom.**"
   ]
  },
  {
   "cell_type": "markdown",
   "metadata": {},
   "source": [
    "Določimo število razredov v histogramu."
   ]
  },
  {
   "cell_type": "code",
   "execution_count": 624,
   "metadata": {},
   "outputs": [],
   "source": [
    "#koda vzeta s strani http://www.jtrive.com/determining-histogram-bin-width-using-the-freedman-diaconis-rule.html\n",
    "\n",
    "def freedman_diaconis(data, returnas=\"width\"):\n",
    "    \"\"\"\n",
    "    Use Freedman Diaconis rule to compute optimal histogram bin width. \n",
    "    ``returnas`` can be one of \"width\" or \"bins\", indicating whether\n",
    "    the bin width or number of bins should be returned respectively. \n",
    "\n",
    "\n",
    "    Parameters\n",
    "    ----------\n",
    "    data: np.ndarray\n",
    "        One-dimensional array.\n",
    "\n",
    "    returnas: {\"width\", \"bins\"}\n",
    "        If \"width\", return the estimated width for each histogram bin. \n",
    "        If \"bins\", return the number of bins suggested by rule.\n",
    "    \"\"\"\n",
    "    data = numpy.asarray(data, dtype=numpy.float_)\n",
    "    IQR  = stats.iqr(data, rng=(25, 75), scale=\"raw\", nan_policy=\"omit\") #Compute the interquartile range of the data along the specified axis\n",
    "    N    = data.size\n",
    "    bw   = (2 * IQR) / numpy.power(N, 1/3)\n",
    "\n",
    "    if returnas==\"width\":\n",
    "        result = bw\n",
    "    else:\n",
    "        datmin, datmax = data.min(), data.max()\n",
    "        datrng = datmax - datmin\n",
    "        result = int((datrng / bw) + 1)\n",
    "    return result"
   ]
  },
  {
   "cell_type": "code",
   "execution_count": 625,
   "metadata": {},
   "outputs": [
    {
     "name": "stderr",
     "output_type": "stream",
     "text": [
      "c:\\Users\\gajaj\\AppData\\Local\\Programs\\Python\\Python38-32\\lib\\site-packages\\scipy\\stats\\_stats_py.py:3171: VisibleDeprecationWarning: use of scale='raw' is deprecated, use scale=1.0 instead\n",
      "  warnings.warn(\n"
     ]
    },
    {
     "data": {
      "text/plain": [
       "2127.8476148224045"
      ]
     },
     "execution_count": 625,
     "metadata": {},
     "output_type": "execute_result"
    }
   ],
   "source": [
    "#širina razreda v histogramu\n",
    "freedman_diaconis(Kibergrad.dohodek, 'width')"
   ]
  },
  {
   "cell_type": "code",
   "execution_count": 626,
   "metadata": {},
   "outputs": [
    {
     "data": {
      "text/plain": [
       "223"
      ]
     },
     "execution_count": 626,
     "metadata": {},
     "output_type": "execute_result"
    }
   ],
   "source": [
    "#število razredov za histogram\n",
    "freedman_diaconis(Kibergrad.dohodek, 'bins')"
   ]
  },
  {
   "cell_type": "markdown",
   "metadata": {},
   "source": [
    "Tabelo uredimo po naraščajočih se dohodkih"
   ]
  },
  {
   "cell_type": "code",
   "execution_count": 627,
   "metadata": {},
   "outputs": [],
   "source": [
    "Kibergrad_urejen = Kibergrad.sort_values('dohodek').reset_index()"
   ]
  },
  {
   "cell_type": "markdown",
   "metadata": {},
   "source": [
    "Histogram dohodkov vseh družin v Kibergradu"
   ]
  },
  {
   "cell_type": "code",
   "execution_count": 628,
   "metadata": {},
   "outputs": [
    {
     "data": {
      "text/plain": [
       "(array([1.000e+00, 0.000e+00, 0.000e+00, 0.000e+00, 1.000e+00, 2.000e+00,\n",
       "        8.000e+00, 6.000e+00, 7.000e+00, 1.100e+01, 7.110e+02, 6.910e+02,\n",
       "        9.960e+02, 1.130e+03, 1.320e+03, 1.411e+03, 1.472e+03, 1.667e+03,\n",
       "        1.493e+03, 1.531e+03, 1.379e+03, 1.461e+03, 1.544e+03, 1.392e+03,\n",
       "        1.442e+03, 1.455e+03, 1.300e+03, 1.232e+03, 1.208e+03, 1.312e+03,\n",
       "        1.112e+03, 1.096e+03, 9.870e+02, 1.097e+03, 9.610e+02, 8.860e+02,\n",
       "        8.610e+02, 7.900e+02, 7.420e+02, 6.420e+02, 5.930e+02, 6.470e+02,\n",
       "        4.810e+02, 4.980e+02, 4.720e+02, 4.330e+02, 3.590e+02, 3.330e+02,\n",
       "        3.420e+02, 3.020e+02, 2.880e+02, 2.600e+02, 2.250e+02, 2.420e+02,\n",
       "        1.860e+02, 1.940e+02, 1.670e+02, 2.310e+02, 2.050e+02, 1.730e+02,\n",
       "        1.460e+02, 1.200e+02, 1.200e+02, 1.130e+02, 1.030e+02, 7.500e+01,\n",
       "        1.020e+02, 7.400e+01, 6.200e+01, 7.000e+01, 5.700e+01, 6.100e+01,\n",
       "        4.100e+01, 4.900e+01, 5.000e+01, 5.600e+01, 4.200e+01, 3.500e+01,\n",
       "        3.400e+01, 3.100e+01, 3.400e+01, 3.000e+01, 2.100e+01, 3.200e+01,\n",
       "        2.000e+01, 3.000e+01, 1.300e+01, 1.400e+01, 1.400e+01, 1.300e+01,\n",
       "        1.900e+01, 1.400e+01, 8.000e+00, 1.200e+01, 8.000e+00, 1.000e+01,\n",
       "        7.000e+00, 1.300e+01, 5.000e+00, 1.300e+01, 7.000e+00, 6.000e+00,\n",
       "        5.000e+00, 6.000e+00, 9.000e+00, 6.000e+00, 6.000e+00, 4.000e+00,\n",
       "        4.000e+00, 3.000e+00, 3.000e+00, 1.000e+00, 6.000e+00, 3.000e+00,\n",
       "        2.000e+00, 2.000e+00, 4.000e+00, 0.000e+00, 3.000e+00, 5.000e+00,\n",
       "        2.000e+00, 0.000e+00, 1.000e+00, 2.000e+00, 1.000e+00, 0.000e+00,\n",
       "        0.000e+00, 1.000e+00, 2.000e+00, 0.000e+00, 0.000e+00, 1.000e+00,\n",
       "        3.000e+00, 2.000e+00, 0.000e+00, 0.000e+00, 0.000e+00, 1.000e+00,\n",
       "        3.000e+00, 1.000e+00, 1.000e+00, 2.000e+00, 2.000e+00, 1.000e+00,\n",
       "        0.000e+00, 1.000e+00, 1.000e+00, 0.000e+00, 0.000e+00, 1.000e+00,\n",
       "        1.000e+00, 0.000e+00, 0.000e+00, 0.000e+00, 0.000e+00, 0.000e+00,\n",
       "        0.000e+00, 0.000e+00, 2.000e+00, 0.000e+00, 1.000e+00, 1.000e+00,\n",
       "        0.000e+00, 1.000e+00, 0.000e+00, 1.000e+00, 0.000e+00, 1.000e+00,\n",
       "        0.000e+00, 0.000e+00, 0.000e+00, 0.000e+00, 0.000e+00, 0.000e+00,\n",
       "        0.000e+00, 0.000e+00, 0.000e+00, 0.000e+00, 0.000e+00, 0.000e+00,\n",
       "        0.000e+00, 0.000e+00, 1.000e+00, 0.000e+00, 1.000e+00, 0.000e+00,\n",
       "        0.000e+00, 0.000e+00, 1.000e+00, 0.000e+00, 0.000e+00, 0.000e+00,\n",
       "        0.000e+00, 0.000e+00, 0.000e+00, 0.000e+00, 0.000e+00, 0.000e+00,\n",
       "        0.000e+00, 0.000e+00, 0.000e+00, 0.000e+00, 0.000e+00, 0.000e+00,\n",
       "        0.000e+00, 0.000e+00, 0.000e+00, 0.000e+00, 0.000e+00, 0.000e+00,\n",
       "        0.000e+00, 0.000e+00, 0.000e+00, 0.000e+00, 0.000e+00, 0.000e+00,\n",
       "        0.000e+00, 0.000e+00, 0.000e+00, 0.000e+00, 0.000e+00, 1.000e+00,\n",
       "        1.000e+00]),\n",
       " array([-22166.        , -20040.20179372, -17914.40358744, -15788.60538117,\n",
       "        -13662.80717489, -11537.00896861,  -9411.21076233,  -7285.41255605,\n",
       "         -5159.61434978,  -3033.8161435 ,   -908.01793722,   1217.78026906,\n",
       "          3343.57847534,   5469.37668161,   7595.17488789,   9720.97309417,\n",
       "         11846.77130045,  13972.56950673,  16098.367713  ,  18224.16591928,\n",
       "         20349.96412556,  22475.76233184,  24601.56053812,  26727.35874439,\n",
       "         28853.15695067,  30978.95515695,  33104.75336323,  35230.55156951,\n",
       "         37356.34977578,  39482.14798206,  41607.94618834,  43733.74439462,\n",
       "         45859.5426009 ,  47985.34080717,  50111.13901345,  52236.93721973,\n",
       "         54362.73542601,  56488.53363229,  58614.33183857,  60740.13004484,\n",
       "         62865.92825112,  64991.7264574 ,  67117.52466368,  69243.32286996,\n",
       "         71369.12107623,  73494.91928251,  75620.71748879,  77746.51569507,\n",
       "         79872.31390135,  81998.11210762,  84123.9103139 ,  86249.70852018,\n",
       "         88375.50672646,  90501.30493274,  92627.10313901,  94752.90134529,\n",
       "         96878.69955157,  99004.49775785, 101130.29596413, 103256.0941704 ,\n",
       "        105381.89237668, 107507.69058296, 109633.48878924, 111759.28699552,\n",
       "        113885.08520179, 116010.88340807, 118136.68161435, 120262.47982063,\n",
       "        122388.27802691, 124514.07623318, 126639.87443946, 128765.67264574,\n",
       "        130891.47085202, 133017.2690583 , 135143.06726457, 137268.86547085,\n",
       "        139394.66367713, 141520.46188341, 143646.26008969, 145772.05829596,\n",
       "        147897.85650224, 150023.65470852, 152149.4529148 , 154275.25112108,\n",
       "        156401.04932735, 158526.84753363, 160652.64573991, 162778.44394619,\n",
       "        164904.24215247, 167030.04035874, 169155.83856502, 171281.6367713 ,\n",
       "        173407.43497758, 175533.23318386, 177659.03139013, 179784.82959641,\n",
       "        181910.62780269, 184036.42600897, 186162.22421525, 188288.02242152,\n",
       "        190413.8206278 , 192539.61883408, 194665.41704036, 196791.21524664,\n",
       "        198917.01345291, 201042.81165919, 203168.60986547, 205294.40807175,\n",
       "        207420.20627803, 209546.0044843 , 211671.80269058, 213797.60089686,\n",
       "        215923.39910314, 218049.19730942, 220174.9955157 , 222300.79372197,\n",
       "        224426.59192825, 226552.39013453, 228678.18834081, 230803.98654709,\n",
       "        232929.78475336, 235055.58295964, 237181.38116592, 239307.1793722 ,\n",
       "        241432.97757848, 243558.77578475, 245684.57399103, 247810.37219731,\n",
       "        249936.17040359, 252061.96860987, 254187.76681614, 256313.56502242,\n",
       "        258439.3632287 , 260565.16143498, 262690.95964126, 264816.75784753,\n",
       "        266942.55605381, 269068.35426009, 271194.15246637, 273319.95067265,\n",
       "        275445.74887892, 277571.5470852 , 279697.34529148, 281823.14349776,\n",
       "        283948.94170404, 286074.73991031, 288200.53811659, 290326.33632287,\n",
       "        292452.13452915, 294577.93273543, 296703.7309417 , 298829.52914798,\n",
       "        300955.32735426, 303081.12556054, 305206.92376682, 307332.72197309,\n",
       "        309458.52017937, 311584.31838565, 313710.11659193, 315835.91479821,\n",
       "        317961.71300448, 320087.51121076, 322213.30941704, 324339.10762332,\n",
       "        326464.9058296 , 328590.70403587, 330716.50224215, 332842.30044843,\n",
       "        334968.09865471, 337093.89686099, 339219.69506726, 341345.49327354,\n",
       "        343471.29147982, 345597.0896861 , 347722.88789238, 349848.68609865,\n",
       "        351974.48430493, 354100.28251121, 356226.08071749, 358351.87892377,\n",
       "        360477.67713004, 362603.47533632, 364729.2735426 , 366855.07174888,\n",
       "        368980.86995516, 371106.66816143, 373232.46636771, 375358.26457399,\n",
       "        377484.06278027, 379609.86098655, 381735.65919283, 383861.4573991 ,\n",
       "        385987.25560538, 388113.05381166, 390238.85201794, 392364.65022422,\n",
       "        394490.44843049, 396616.24663677, 398742.04484305, 400867.84304933,\n",
       "        402993.64125561, 405119.43946188, 407245.23766816, 409371.03587444,\n",
       "        411496.83408072, 413622.632287  , 415748.43049327, 417874.22869955,\n",
       "        420000.02690583, 422125.82511211, 424251.62331839, 426377.42152466,\n",
       "        428503.21973094, 430629.01793722, 432754.8161435 , 434880.61434978,\n",
       "        437006.41255605, 439132.21076233, 441258.00896861, 443383.80717489,\n",
       "        445509.60538117, 447635.40358744, 449761.20179372, 451887.        ]),\n",
       " <BarContainer object of 223 artists>)"
      ]
     },
     "execution_count": 628,
     "metadata": {},
     "output_type": "execute_result"
    },
    {
     "data": {
      "image/png": "[encoded data removed]",
      "text/plain": [
       "<Figure size 432x288 with 1 Axes>"
      ]
     },
     "metadata": {
      "needs_background": "light"
     },
     "output_type": "display_data"
    }
   ],
   "source": [
    "plt.hist(Kibergrad.dohodek, bins=223)"
   ]
  },
  {
   "cell_type": "markdown",
   "metadata": {},
   "source": [
    "### B naloga"
   ]
  },
  {
   "cell_type": "markdown",
   "metadata": {},
   "source": [
    "Dorišite normalno gostoto, katere pričakovana vrednost in standardni odklon\n",
    "se ujemata s povprečjem in standardnim odklonom dohodka družine v Kibergradu. Kako dobro se prilega?"
   ]
  },
  {
   "cell_type": "code",
   "execution_count": 629,
   "metadata": {},
   "outputs": [
    {
     "data": {
      "text/plain": [
       "41335.50704096979"
      ]
     },
     "execution_count": 629,
     "metadata": {},
     "output_type": "execute_result"
    }
   ],
   "source": [
    "#pričakovana vrednost se ujema s povprečjem\n",
    "povprecje = Kibergrad.dohodek.mean()\n",
    "povprecje"
   ]
  },
  {
   "cell_type": "code",
   "execution_count": 630,
   "metadata": {},
   "outputs": [
    {
     "data": {
      "text/plain": [
       "32037.61941788666"
      ]
     },
     "execution_count": 630,
     "metadata": {},
     "output_type": "execute_result"
    }
   ],
   "source": [
    "#standardni odklon izracunamo s pomocjo funkcije .std()\n",
    "standardni_odklon = Kibergrad.dohodek.std()\n",
    "standardni_odklon"
   ]
  },
  {
   "cell_type": "code",
   "execution_count": 631,
   "metadata": {},
   "outputs": [],
   "source": [
    "# gostota normalne porazdelitve\n",
    "\n",
    "def normalna(x, pov, st):\n",
    "    return 1/ (st*(2*math.pi)**0.5) * math.e**(-0.5*((x-pov)/st)**2)"
   ]
  },
  {
   "cell_type": "code",
   "execution_count": 632,
   "metadata": {},
   "outputs": [
    {
     "data": {
      "image/png": "[encoded data removed]",
      "text/plain": [
       "<Figure size 432x288 with 1 Axes>"
      ]
     },
     "metadata": {
      "needs_background": "light"
     },
     "output_type": "display_data"
    }
   ],
   "source": [
    "#koda vzeta iz strani https://www.geeksforgeeks.org/how-to-plot-normal-distribution-over-histogram-in-python/\n",
    "\n",
    "# Plot the histogram.\n",
    "plt.hist(Kibergrad.dohodek, bins=223, density=True, alpha=0.6)\n",
    "  \n",
    "# Plot the PDF.\n",
    "xmin, xmax = plt.xlim()\n",
    "x = numpy.linspace(xmin, xmax, 100)\n",
    "p = normalna(x, povprecje, standardni_odklon)\n",
    "\n",
    "  \n",
    "plt.plot(x, p, 'k', linewidth=2)\n",
    "title = \"Dohodki družin v Kibergradu\".format(povprecje, standardni_odklon)\n",
    "plt.title(title)\n",
    "  \n",
    "plt.show()"
   ]
  },
  {
   "cell_type": "markdown",
   "metadata": {},
   "source": [
    "### C naloga"
   ]
  },
  {
   "cell_type": "markdown",
   "metadata": {},
   "source": [
    "Narišite kumulativno porazdelitveno funkcijo porazdelitve dohodkov družin v\n",
    "Kibergradu in primerjajte s kumulativno porazdelitveno funkcijo ustrezne normalne porazdelitve. Spet komentirajte, kako dobro se prilega."
   ]
  },
  {
   "cell_type": "code",
   "execution_count": 633,
   "metadata": {},
   "outputs": [
    {
     "data": {
      "image/png": "[encoded data removed]",
      "text/plain": [
       "<Figure size 432x288 with 1 Axes>"
      ]
     },
     "metadata": {
      "needs_background": "light"
     },
     "output_type": "display_data"
    }
   ],
   "source": [
    "#koda iz strani https://www.statology.org/cdf-python/\n",
    "\n",
    "x = numpy.sort(Kibergrad.dohodek)\n",
    "\n",
    "#calculate CDF values\n",
    "y = 1. * numpy.arange(len(Kibergrad.dohodek)) / (len(Kibergrad.dohodek) - 1)\n",
    "\n",
    "#plot CDF\n",
    "p1 = plt.plot(x, y)\n",
    "\n",
    "#CDF za normalno porazdelitev\n",
    "u = []\n",
    "for i in x:\n",
    "    u.append(statistics.NormalDist(povprecje, standardni_odklon).cdf(i))\n",
    "\n",
    "p2 = plt.plot(x, u, color='r')\n",
    "\n",
    "plt.show()"
   ]
  },
  {
   "cell_type": "markdown",
   "metadata": {},
   "source": [
    "### D naloga"
   ]
  },
  {
   "cell_type": "markdown",
   "metadata": {},
   "source": [
    "Narišite še primerjalni kvantilni (Q–Q) grafikon, ki porazdelitev dohodkov\n",
    "družin v Kibergradu primerja z normalno porazdelitvijo"
   ]
  },
  {
   "cell_type": "code",
   "execution_count": 634,
   "metadata": {},
   "outputs": [
    {
     "data": {
      "image/png": "[encoded data removed]",
      "text/plain": [
       "<Figure size 432x288 with 1 Axes>"
      ]
     },
     "metadata": {
      "needs_background": "light"
     },
     "output_type": "display_data"
    }
   ],
   "source": [
    "podatki_normalne = numpy.random.normal(povprecje,standardni_odklon,43886)\n",
    "podatki_normalne.sort()\n",
    "\n",
    "podatki_dohodkov = Kibergrad_urejen.dohodek\n",
    "\n",
    "plt.scatter(podatki_dohodkov,podatki_normalne)\n",
    "plt.plot([min(podatki_dohodkov),max(podatki_dohodkov)],[min(podatki_dohodkov),max(podatki_dohodkov)],color=\"red\")\n",
    "plt.xlabel(\"porazdelitev dohodkov\")\n",
    "plt.ylabel(\"normalna porazdelitev\")\n",
    "plt.grid()\n",
    "plt.show()"
   ]
  },
  {
   "cell_type": "markdown",
   "metadata": {},
   "source": [
    "### E naloga"
   ]
  },
  {
   "cell_type": "markdown",
   "metadata": {},
   "source": [
    "Vzemite 1000 enostavnih slučajnih vzorcev velikosti 400 in narišite histogram\n",
    "vzorčnih povprečij dohodkov družin"
   ]
  },
  {
   "cell_type": "code",
   "execution_count": 635,
   "metadata": {},
   "outputs": [],
   "source": [
    "#generiramo povprečja vzorcev\n",
    "seznam_povprecij = []\n",
    "for j in range(1000):\n",
    "    seznam_dohodkov = []\n",
    "    for i in range(0,400):\n",
    "        n = random.randint(0,43885)\n",
    "        d = Kibergrad.dohodek[n]\n",
    "        seznam_dohodkov.append(d)\n",
    "    seznam_povprecij.append(sum(seznam_dohodkov) / len(seznam_dohodkov))"
   ]
  },
  {
   "cell_type": "code",
   "execution_count": 636,
   "metadata": {},
   "outputs": [
    {
     "name": "stderr",
     "output_type": "stream",
     "text": [
      "c:\\Users\\gajaj\\AppData\\Local\\Programs\\Python\\Python38-32\\lib\\site-packages\\scipy\\stats\\_stats_py.py:3171: VisibleDeprecationWarning: use of scale='raw' is deprecated, use scale=1.0 instead\n",
      "  warnings.warn(\n"
     ]
    },
    {
     "data": {
      "text/plain": [
       "28"
      ]
     },
     "execution_count": 636,
     "metadata": {},
     "output_type": "execute_result"
    }
   ],
   "source": [
    "#določimo število razredov v histogramu\n",
    "freedman_diaconis(seznam_povprecij, \"bins\")"
   ]
  },
  {
   "cell_type": "code",
   "execution_count": 637,
   "metadata": {},
   "outputs": [
    {
     "data": {
      "text/plain": [
       "(array([  1.,   0.,   2.,   6.,  11.,  22.,  40.,  79., 103., 115., 124.,\n",
       "        126., 130., 109.,  70.,  32.,  17.,   7.,   5.,   0.,   0.,   1.]),\n",
       " array([35204.91      , 35765.95488636, 36326.99977273, 36888.04465909,\n",
       "        37449.08954545, 38010.13443182, 38571.17931818, 39132.22420455,\n",
       "        39693.26909091, 40254.31397727, 40815.35886364, 41376.40375   ,\n",
       "        41937.44863636, 42498.49352273, 43059.53840909, 43620.58329545,\n",
       "        44181.62818182, 44742.67306818, 45303.71795455, 45864.76284091,\n",
       "        46425.80772727, 46986.85261364, 47547.8975    ]),\n",
       " <BarContainer object of 22 artists>)"
      ]
     },
     "execution_count": 637,
     "metadata": {},
     "output_type": "execute_result"
    },
    {
     "data": {
      "image/png": "[encoded data removed]",
      "text/plain": [
       "<Figure size 432x288 with 1 Axes>"
      ]
     },
     "metadata": {
      "needs_background": "light"
     },
     "output_type": "display_data"
    }
   ],
   "source": [
    "plt.hist(seznam_povprecij, bins=22)"
   ]
  },
  {
   "cell_type": "markdown",
   "metadata": {},
   "source": [
    "### F naloga"
   ]
  },
  {
   "cell_type": "markdown",
   "metadata": {},
   "source": [
    "Dorišite normalno gostoto, katere pričakovana vrednost se ujema s povprečnim\n",
    "dohodkom na družino v Kibergradu, standardni odklon pa s standardno napako\n",
    "za enostavni slučajni vzorec velikosti 400. Komentirajte, kako dobro se prilega."
   ]
  },
  {
   "cell_type": "code",
   "execution_count": 638,
   "metadata": {},
   "outputs": [],
   "source": [
    "seznam_dohodkov = []\n",
    "for i in range(0,400):\n",
    "    n = random.randint(0,43885)\n",
    "    d = Kibergrad.dohodek[n]\n",
    "    seznam_dohodkov.append(d)"
   ]
  },
  {
   "cell_type": "code",
   "execution_count": 639,
   "metadata": {},
   "outputs": [
    {
     "data": {
      "text/plain": [
       "41335.50704096979"
      ]
     },
     "execution_count": 639,
     "metadata": {},
     "output_type": "execute_result"
    }
   ],
   "source": [
    "# pričakovana vrednost = povprečje dohodkov v celotni populaciji\n",
    "pričakovana_vrednost = sum(Kibergrad.dohodek)/len(Kibergrad.dohodek)\n",
    "#pričakovana_vrednost = numpy.mean(seznam_dohodkov)\n",
    "pričakovana_vrednost"
   ]
  },
  {
   "cell_type": "code",
   "execution_count": 640,
   "metadata": {},
   "outputs": [
    {
     "data": {
      "text/plain": [
       "1515.017726853948"
      ]
     },
     "execution_count": 640,
     "metadata": {},
     "output_type": "execute_result"
    }
   ],
   "source": [
    "#standardni odklon = SE za enostavni slučajni vzorec velikostni 400\n",
    "\n",
    "se = sem(numpy.array(seznam_dohodkov))\n",
    "se"
   ]
  },
  {
   "cell_type": "code",
   "execution_count": 641,
   "metadata": {},
   "outputs": [
    {
     "data": {
      "text/plain": [
       "1515.017726853948"
      ]
     },
     "execution_count": 641,
     "metadata": {},
     "output_type": "execute_result"
    }
   ],
   "source": [
    "#drugi način za zračunat se\n",
    "numpy.std(seznam_dohodkov, ddof=1) / numpy.sqrt(numpy.size(seznam_dohodkov))"
   ]
  },
  {
   "cell_type": "code",
   "execution_count": 642,
   "metadata": {},
   "outputs": [
    {
     "data": {
      "text/plain": [
       "1506.2284487368274"
      ]
     },
     "execution_count": 642,
     "metadata": {},
     "output_type": "execute_result"
    }
   ],
   "source": [
    "#tretji način za izračun se\n",
    "N = 43886\n",
    "n = 400\n",
    "se = numpy.sqrt((N-n)/(N-1) * numpy.std(seznam_dohodkov)**2/n)\n",
    "se"
   ]
  },
  {
   "cell_type": "code",
   "execution_count": 643,
   "metadata": {},
   "outputs": [
    {
     "data": {
      "image/png": "[encoded data removed]",
      "text/plain": [
       "<Figure size 432x288 with 1 Axes>"
      ]
     },
     "metadata": {
      "needs_background": "light"
     },
     "output_type": "display_data"
    }
   ],
   "source": [
    "# Plot the histogram.\n",
    "\n",
    "plt.hist(seznam_povprecij, bins=22)\n",
    "  \n",
    "# Plot the PDF.\n",
    "xmin, xmax = plt.xlim()\n",
    "x = numpy.linspace(xmin, xmax, 100)\n",
    "\n",
    "plt.plot(x, norm.pdf(x, pričakovana_vrednost, se), color='r')\n",
    "  \n",
    "plt.show()"
   ]
  },
  {
   "cell_type": "code",
   "execution_count": 644,
   "metadata": {},
   "outputs": [
    {
     "data": {
      "text/plain": [
       "[<matplotlib.lines.Line2D at 0x33e6d508>]"
      ]
     },
     "execution_count": 644,
     "metadata": {},
     "output_type": "execute_result"
    },
    {
     "data": {
      "image/png": "[encoded data removed]",
      "text/plain": [
       "<Figure size 432x288 with 1 Axes>"
      ]
     },
     "metadata": {
      "needs_background": "light"
     },
     "output_type": "display_data"
    }
   ],
   "source": [
    "#samo graf normalne porazdelitve\n",
    "x = numpy.linspace(31100, 51500, 100)\n",
    "plt.plot(x, norm.pdf(x, pričakovana_vrednost, se), color='r')"
   ]
  },
  {
   "cell_type": "markdown",
   "metadata": {},
   "source": [
    "### G naloga"
   ]
  },
  {
   "cell_type": "markdown",
   "metadata": {},
   "source": [
    "Za vzorčna povprečja podobno kot prej narišite še kumulativno porazdelitveno\n",
    "funkcijo in primerjalni kvantilni grafikon ter primerjajte z normalno porazdelitvijo. Komentirajte prileganje."
   ]
  },
  {
   "cell_type": "markdown",
   "metadata": {},
   "source": [
    "KUMULATIVNA PORAZDELITVENA FUNKCIJA"
   ]
  },
  {
   "cell_type": "code",
   "execution_count": 645,
   "metadata": {},
   "outputs": [
    {
     "data": {
      "image/png": "[encoded data removed]",
      "text/plain": [
       "<Figure size 432x288 with 1 Axes>"
      ]
     },
     "metadata": {
      "needs_background": "light"
     },
     "output_type": "display_data"
    }
   ],
   "source": [
    "#KUMULATIVNA PORAZDELITVENA FUNKCIJA\n",
    "\n",
    "#plot CDF\n",
    "#sort data\n",
    "from turtle import color\n",
    "\n",
    "\n",
    "x = numpy.sort(seznam_povprecij)\n",
    "\n",
    "#calculate CDF values\n",
    "y = 1. * numpy.arange(len(seznam_povprecij)) / (len(seznam_povprecij) - 1)\n",
    "\n",
    "#plot CDF\n",
    "plt.plot(x, y, color='b')\n",
    "\n",
    "#KUMULATIVNA ZA NORMANO\n",
    "u = []\n",
    "for i in x:\n",
    "    u.append(statistics.NormalDist(pričakovana_vrednost, se).cdf(i))\n",
    "\n",
    "p2 = plt.plot(x, u, color='r')\n",
    "\n"
   ]
  },
  {
   "cell_type": "markdown",
   "metadata": {},
   "source": [
    "KVANTILNI GRAFIKON"
   ]
  },
  {
   "cell_type": "code",
   "execution_count": 646,
   "metadata": {},
   "outputs": [
    {
     "data": {
      "image/png": "[encoded data removed]",
      "text/plain": [
       "<Figure size 432x288 with 1 Axes>"
      ]
     },
     "metadata": {
      "needs_background": "light"
     },
     "output_type": "display_data"
    }
   ],
   "source": [
    "podatki_normalne = numpy.random.normal(pričakovana_vrednost,se,1000)\n",
    "podatki_normalne.sort()\n",
    "\n",
    "seznam_povprecij.sort()\n",
    "\n",
    "plt.scatter(seznam_povprecij,podatki_normalne)\n",
    "plt.plot([min(seznam_povprecij),max(seznam_povprecij)],[min(seznam_povprecij),max(seznam_povprecij)],color=\"red\")\n",
    "\n",
    "plt.xlabel(\"povprečja\")\n",
    "plt.ylabel(\"normalna porazdelitev\")\n",
    "plt.show()"
   ]
  }
 ],
 "metadata": {
  "kernelspec": {
   "display_name": "Python 3.8.1 32-bit",
   "language": "python",
   "name": "python3"
  },
  "language_info": {
   "codemirror_mode": {
    "name": "ipython",
    "version": 3
   },
   "file_extension": ".py",
   "mimetype": "text/x-python",
   "name": "python",
   "nbconvert_exporter": "python",
   "pygments_lexer": "ipython3",
   "version": "3.8.1"
  },
  "orig_nbformat": 4,
  "vscode": {
   "interpreter": {
    "hash": "d44a91e7fadf32c41ede04034de35649a715fd53783fc7a039f1b7d87b9a8545"
   }
  }
 },
 "nbformat": 4,
 "nbformat_minor": 2
}
